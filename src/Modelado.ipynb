{
 "cells": [
  {
   "cell_type": "markdown",
   "metadata": {
    "id": "T9wuz3f2gCPI"
   },
   "source": [
    "# PROYECTO MICROCREDITO"
   ]
  },
  {
   "cell_type": "code",
   "execution_count": 1,
   "metadata": {
    "colab": {
     "base_uri": "https://localhost:8080/"
    },
    "executionInfo": {
     "elapsed": 3942,
     "status": "ok",
     "timestamp": 1755102954455,
     "user": {
      "displayName": "Ma Alejandra Gómez",
      "userId": "07798891724586492238"
     },
     "user_tz": -120
    },
    "id": "gniUMhn-jOJS",
    "outputId": "3d323dc1-92a3-47b1-b9f0-f505f7c58b09"
   },
   "outputs": [
    {
     "name": "stdout",
     "output_type": "stream",
     "text": [
      "Requirement already satisfied: lightgbm in /usr/local/lib/python3.11/dist-packages (4.6.0)\n",
      "Requirement already satisfied: numpy>=1.17.0 in /usr/local/lib/python3.11/dist-packages (from lightgbm) (2.0.2)\n",
      "Requirement already satisfied: scipy in /usr/local/lib/python3.11/dist-packages (from lightgbm) (1.16.1)\n"
     ]
    }
   ],
   "source": [
    "!pip install lightgbm"
   ]
  },
  {
   "cell_type": "markdown",
   "metadata": {
    "id": "WC9pHBanf88O"
   },
   "source": [
    "##Importaciones"
   ]
  },
  {
   "cell_type": "code",
   "execution_count": 2,
   "metadata": {
    "executionInfo": {
     "elapsed": 5419,
     "status": "ok",
     "timestamp": 1755102959906,
     "user": {
      "displayName": "Ma Alejandra Gómez",
      "userId": "07798891724586492238"
     },
     "user_tz": -120
    },
    "id": "y3CJ1W3MtbAw"
   },
   "outputs": [],
   "source": [
    "import pandas as pd\n",
    "import numpy as np\n",
    "import matplotlib.pyplot as plt\n",
    "import seaborn as sns\n",
    "from google.colab import drive\n",
    "from sklearn.model_selection import train_test_split\n",
    "import matplotlib.pyplot as plt\n",
    "import lightgbm as lgb\n",
    "from sklearn.metrics import accuracy_score, precision_score, recall_score, f1_score, roc_auc_score, confusion_matrix, balanced_accuracy_score, classification_report, roc_curve\n",
    "from sklearn.ensemble import RandomForestClassifier\n",
    "from lightgbm import LGBMClassifier\n",
    "from imblearn.over_sampling import SMOTE\n",
    "from sklearn.model_selection import RandomizedSearchCV\n",
    "from sklearn.tree import DecisionTreeClassifier\n",
    "from imblearn.ensemble import EasyEnsembleClassifier, BalancedRandomForestClassifier\n",
    "import pickle\n",
    "from joblib import dump\n",
    "import os"
   ]
  },
  {
   "cell_type": "markdown",
   "metadata": {
    "id": "I9nH9YqJfkZ2"
   },
   "source": [
    "## Carga de datos"
   ]
  },
  {
   "cell_type": "code",
   "execution_count": 3,
   "metadata": {
    "colab": {
     "base_uri": "https://localhost:8080/"
    },
    "executionInfo": {
     "elapsed": 22321,
     "status": "ok",
     "timestamp": 1755102982235,
     "user": {
      "displayName": "Ma Alejandra Gómez",
      "userId": "07798891724586492238"
     },
     "user_tz": -120
    },
    "id": "xglSKNAO2Qpv",
    "outputId": "924166f2-8a75-4db6-c5c0-02098369eedb"
   },
   "outputs": [
    {
     "name": "stdout",
     "output_type": "stream",
     "text": [
      "Mounted at /content/drive\n"
     ]
    }
   ],
   "source": [
    "# Montar drive\n",
    "drive.mount('/content/drive')\n",
    "\n",
    "# Desmontar drive inmediatamente\n",
    "#drive.flush_and_unmount()"
   ]
  },
  {
   "cell_type": "code",
   "execution_count": 4,
   "metadata": {
    "executionInfo": {
     "elapsed": 3555,
     "status": "ok",
     "timestamp": 1755102985788,
     "user": {
      "displayName": "Ma Alejandra Gómez",
      "userId": "07798891724586492238"
     },
     "user_tz": -120
    },
    "id": "HZvch1n906W5"
   },
   "outputs": [],
   "source": [
    "# Cargo los archivos de las particiones como un dataframe\n",
    "X_train_seleccionado = pd.read_csv('/content/drive/MyDrive/proyecto_microcreditos/data/processed/X_train_sel.csv')\n",
    "y_train = pd.read_csv('/content/drive/MyDrive/proyecto_microcreditos/data/processed/y_train.csv')\n",
    "X_test_seleccionado = pd.read_csv('/content/drive/MyDrive/proyecto_microcreditos/data/processed/X_test_sel.csv')\n",
    "y_test = pd.read_csv('/content/drive/MyDrive/proyecto_microcreditos/data/processed/y_test.csv')"
   ]
  },
  {
   "cell_type": "code",
   "execution_count": 5,
   "metadata": {
    "executionInfo": {
     "elapsed": 7,
     "status": "ok",
     "timestamp": 1755102985811,
     "user": {
      "displayName": "Ma Alejandra Gómez",
      "userId": "07798891724586492238"
     },
     "user_tz": -120
    },
    "id": "Iw4sfeb6WQOZ"
   },
   "outputs": [],
   "source": [
    "# Configurar la opcion para ver todas las columnas\n",
    "pd.set_option('display.max_columns', None)"
   ]
  },
  {
   "cell_type": "code",
   "execution_count": 6,
   "metadata": {
    "executionInfo": {
     "elapsed": 7,
     "status": "ok",
     "timestamp": 1755102985836,
     "user": {
      "displayName": "Ma Alejandra Gómez",
      "userId": "07798891724586492238"
     },
     "user_tz": -120
    },
    "id": "wOPKrsp4_-T0"
   },
   "outputs": [],
   "source": [
    "# Configurar la opcion para ver 500 filas\n",
    "pd.set_option('display.max_rows', 500)"
   ]
  },
  {
   "cell_type": "markdown",
   "metadata": {
    "id": "4FgfPCBn1uTx"
   },
   "source": [
    "## Modelo RandomForestClassifier"
   ]
  },
  {
   "cell_type": "code",
   "execution_count": 7,
   "metadata": {
    "colab": {
     "base_uri": "https://localhost:8080/"
    },
    "executionInfo": {
     "elapsed": 9139,
     "status": "ok",
     "timestamp": 1755102994979,
     "user": {
      "displayName": "Ma Alejandra Gómez",
      "userId": "07798891724586492238"
     },
     "user_tz": -120
    },
    "id": "Q2G2swJf1tNh",
    "outputId": "d31f9426-d5ac-4f74-ceb6-258ec17935dd"
   },
   "outputs": [
    {
     "name": "stderr",
     "output_type": "stream",
     "text": [
      "/usr/local/lib/python3.11/dist-packages/sklearn/base.py:1389: DataConversionWarning: A column-vector y was passed when a 1d array was expected. Please change the shape of y to (n_samples,), for example using ravel().\n",
      "  return fit_method(estimator, *args, **kwargs)\n"
     ]
    },
    {
     "name": "stdout",
     "output_type": "stream",
     "text": [
      "Accuracy: 0.8033996984976868\n",
      "Balanced Accuracy: 0.6095508233470501\n",
      "F1 Score: 0.7839572819040027\n",
      "ROC AUC: 0.7652295013688755\n",
      "\n",
      "Classification Report:\n",
      "               precision    recall  f1-score   support\n",
      "\n",
      "           0       0.85      0.92      0.88     15534\n",
      "           1       0.48      0.29      0.37      3703\n",
      "\n",
      "    accuracy                           0.80     19237\n",
      "   macro avg       0.66      0.61      0.62     19237\n",
      "weighted avg       0.78      0.80      0.78     19237\n",
      "\n",
      "\n",
      "Confusion Matrix:\n",
      " [[14365  1169]\n",
      " [ 2613  1090]]\n"
     ]
    }
   ],
   "source": [
    "# Definición explícita de pesos\n",
    "class_weights = {0: 1.0, 1: \t77670 / 18512}  # ≈ {0:1.0, 1:4.19}\n",
    "\n",
    "# Entrenar un modelo RFC\n",
    "rf = RandomForestClassifier(\n",
    "    n_estimators=100,\n",
    "    class_weight=class_weights,  # Pesos personalizados para el desbalance\n",
    "    random_state=42\n",
    ")\n",
    "\n",
    "rf.fit(X_train_seleccionado, y_train)\n",
    "y_pred = rf.predict(X_test_seleccionado)\n",
    "\n",
    "print(\"Accuracy:\", accuracy_score(y_test, y_pred))\n",
    "print(\"Balanced Accuracy:\", balanced_accuracy_score(y_test, y_pred))\n",
    "print(\"F1 Score:\", f1_score(y_test, y_pred, average='weighted'))\n",
    "print(\"ROC AUC:\", roc_auc_score(y_test, rf.predict_proba(X_test_seleccionado)[:, 1]))\n",
    "print(\"\\nClassification Report:\\n\", classification_report(y_test, y_pred))\n",
    "print(\"\\nConfusion Matrix:\\n\", confusion_matrix(y_test, y_pred))"
   ]
  },
  {
   "cell_type": "markdown",
   "metadata": {
    "id": "hUvXPGtpID4C"
   },
   "source": [
    "## Subsampleo de X_train y y_train"
   ]
  },
  {
   "cell_type": "code",
   "execution_count": 8,
   "metadata": {
    "executionInfo": {
     "elapsed": 444,
     "status": "ok",
     "timestamp": 1755102995427,
     "user": {
      "displayName": "Ma Alejandra Gómez",
      "userId": "07798891724586492238"
     },
     "user_tz": -120
    },
    "id": "Lx1VA2ccIC0t"
   },
   "outputs": [],
   "source": [
    "# Combinar X_train y y_train en un solo DataFrame temporal\n",
    "Xy_train = X_train_seleccionado.copy()\n",
    "Xy_train['estado_general'] = y_train.values  # Asegurarse de que el índice coincida\n",
    "\n",
    "# Separar clase 0 y clase 1\n",
    "df_0 = Xy_train[Xy_train['estado_general'] == 0].copy()\n",
    "df_1 = Xy_train[Xy_train['estado_general'] == 1].copy()\n",
    "\n",
    "# Calcular variabilidad por fila (std en los features, sin la etiqueta)\n",
    "features_0 = df_0.drop(columns=['estado_general'])\n",
    "df_0['row_std'] = features_0.std(axis=1)\n",
    "\n",
    "# Elegir porcentaje o número de filas a conservar\n",
    "porcentaje_conservar = 0.35  # conservar el %\n",
    "n_conservar = int(len(df_0) * porcentaje_conservar)\n",
    "\n",
    "# Seleccionar las filas más variables\n",
    "df_0_mas_variable = df_0.sort_values(by='row_std', ascending=False).head(n_conservar)\n",
    "\n",
    "# Eliminar columna auxiliar\n",
    "df_0_mas_variable = df_0_mas_variable.drop(columns=['row_std'])\n",
    "\n",
    "# Recomponer el conjunto final de entrenamiento\n",
    "df_train_final = pd.concat([df_0_mas_variable, df_1], ignore_index=True)\n",
    "\n",
    "# Separar nuevamente X e y\n",
    "X_train_subsampleado = df_train_final.drop(columns=['estado_general'])\n",
    "y_train_subsampleado = df_train_final['estado_general']\n",
    "\n",
    "# Mezclar recomendable\n",
    "from sklearn.utils import shuffle\n",
    "X_train_subsampleado, y_train_subsampleado = shuffle(X_train_subsampleado, y_train_subsampleado, random_state=42)"
   ]
  },
  {
   "cell_type": "code",
   "execution_count": 9,
   "metadata": {
    "executionInfo": {
     "elapsed": 3,
     "status": "ok",
     "timestamp": 1755102995434,
     "user": {
      "displayName": "Ma Alejandra Gómez",
      "userId": "07798891724586492238"
     },
     "user_tz": -120
    },
    "id": "ql92NdtbLjZN"
   },
   "outputs": [],
   "source": [
    "#n_conservar"
   ]
  },
  {
   "cell_type": "code",
   "execution_count": 10,
   "metadata": {
    "executionInfo": {
     "elapsed": 6,
     "status": "ok",
     "timestamp": 1755102995444,
     "user": {
      "displayName": "Ma Alejandra Gómez",
      "userId": "07798891724586492238"
     },
     "user_tz": -120
    },
    "id": "L7zv7Bo_LlfC"
   },
   "outputs": [],
   "source": [
    "#len(df_1)"
   ]
  },
  {
   "cell_type": "code",
   "execution_count": 11,
   "metadata": {
    "colab": {
     "base_uri": "https://localhost:8080/"
    },
    "executionInfo": {
     "elapsed": 3139,
     "status": "ok",
     "timestamp": 1755102998599,
     "user": {
      "displayName": "Ma Alejandra Gómez",
      "userId": "07798891724586492238"
     },
     "user_tz": -120
    },
    "id": "5O6LaUmCIpVi",
    "outputId": "977f95c0-332a-4110-f779-2434ca75e831"
   },
   "outputs": [
    {
     "name": "stdout",
     "output_type": "stream",
     "text": [
      "Accuracy: 0.42735353745386495\n",
      "Balanced Accuracy: 0.5747731031816091\n",
      "F1 Score: 0.46044263584433504\n",
      "ROC AUC: 0.6413898536434552\n",
      "\n",
      "Classification Report:\n",
      "               precision    recall  f1-score   support\n",
      "\n",
      "           0       0.88      0.34      0.49     15534\n",
      "           1       0.23      0.81      0.35      3703\n",
      "\n",
      "    accuracy                           0.43     19237\n",
      "   macro avg       0.55      0.57      0.42     19237\n",
      "weighted avg       0.76      0.43      0.46     19237\n",
      "\n",
      "\n",
      "Confusion Matrix:\n",
      " [[ 5205 10329]\n",
      " [  687  3016]]\n"
     ]
    }
   ],
   "source": [
    "# Definición explícita de pesos\n",
    "rf_ss = RandomForestClassifier(\n",
    "    n_estimators=100,\n",
    "    class_weight='balanced',\n",
    "    random_state=42\n",
    ")\n",
    "\n",
    "rf_ss.fit(X_train_subsampleado, y_train_subsampleado)\n",
    "y_pred2 = rf_ss.predict(X_test_seleccionado)\n",
    "\n",
    "print(\"Accuracy:\", accuracy_score(y_test, y_pred2))\n",
    "print(\"Balanced Accuracy:\", balanced_accuracy_score(y_test, y_pred2))\n",
    "print(\"F1 Score:\", f1_score(y_test, y_pred2, average='weighted'))\n",
    "print(\"ROC AUC:\", roc_auc_score(y_test, rf_ss.predict_proba(X_test_seleccionado)[:, 1]))\n",
    "print(\"\\nClassification Report:\\n\", classification_report(y_test, y_pred2))\n",
    "print(\"\\nConfusion Matrix:\\n\", confusion_matrix(y_test, y_pred2))"
   ]
  },
  {
   "cell_type": "markdown",
   "metadata": {
    "id": "-uyQchNktOly"
   },
   "source": [
    "## SMOTE y cambio de umbral"
   ]
  },
  {
   "cell_type": "code",
   "execution_count": 12,
   "metadata": {
    "colab": {
     "base_uri": "https://localhost:8080/",
     "height": 109
    },
    "executionInfo": {
     "elapsed": 10,
     "status": "ok",
     "timestamp": 1755102998613,
     "user": {
      "displayName": "Ma Alejandra Gómez",
      "userId": "07798891724586492238"
     },
     "user_tz": -120
    },
    "id": "AjiwB3mRV8lB",
    "outputId": "ba769fdb-b2aa-4d70-b536-ebcebd619625"
   },
   "outputs": [
    {
     "data": {
      "application/vnd.google.colaboratory.intrinsic+json": {
       "type": "string"
      },
      "text/plain": [
       "' # Aplicar SMOTE SOLO en el set de entrenamiento\\nsmote = SMOTE(random_state=42)\\nX_train_res, y_train_res = smote.fit_resample(X_train_seleccionado, y_train)\\n\\nprint(\"Antes de SMOTE:\", np.bincount(y_train))\\nprint(\"Después de SMOTE:\", np.bincount(y_train_res))\\n\\n# Entrenar el modelo\\nclf3 = RandomForestClassifier(class_weight=\\'balanced\\', random_state=42)\\nclf3.fit(X_train_res, y_train_res)\\n\\n# Predecir probabilidades\\ny_proba2 = clf3.predict_proba(X_test_seleccionado)[:, 1]\\n\\n# Ajustar umbral (ejemplo con 0.3 en vez de 0.5)\\nthreshold = 0.3\\ny_pred5 = (y_proba2 >= threshold).astype(int)\\n\\n# Evaluar\\nprint(\"ROC AUC:\", roc_auc_score(y_test, y_proba2))\\nprint(\"Balanced Accuracy:\", balanced_accuracy_score(y_test, y_pred))\\nprint(classification_report(y_test, y_pred))'"
      ]
     },
     "execution_count": 12,
     "metadata": {},
     "output_type": "execute_result"
    }
   ],
   "source": [
    "\"\"\" # Aplicar SMOTE SOLO en el set de entrenamiento\n",
    "smote = SMOTE(random_state=42)\n",
    "X_train_res, y_train_res = smote.fit_resample(X_train_seleccionado, y_train)\n",
    "\n",
    "print(\"Antes de SMOTE:\", np.bincount(y_train))\n",
    "print(\"Después de SMOTE:\", np.bincount(y_train_res))\n",
    "\n",
    "# Entrenar el modelo\n",
    "clf3 = RandomForestClassifier(class_weight='balanced', random_state=42)\n",
    "clf3.fit(X_train_res, y_train_res)\n",
    "\n",
    "# Predecir probabilidades\n",
    "y_proba2 = clf3.predict_proba(X_test_seleccionado)[:, 1]\n",
    "\n",
    "# Ajustar umbral (ejemplo con 0.3 en vez de 0.5)\n",
    "threshold = 0.3\n",
    "y_pred5 = (y_proba2 >= threshold).astype(int)\n",
    "\n",
    "# Evaluar\n",
    "print(\"ROC AUC:\", roc_auc_score(y_test, y_proba2))\n",
    "print(\"Balanced Accuracy:\", balanced_accuracy_score(y_test, y_pred))\n",
    "print(classification_report(y_test, y_pred))\"\"\""
   ]
  },
  {
   "cell_type": "markdown",
   "metadata": {
    "id": "8lqG5H0eUypB"
   },
   "source": [
    "## EasyEnsembleClassifier"
   ]
  },
  {
   "cell_type": "code",
   "execution_count": 13,
   "metadata": {
    "colab": {
     "base_uri": "https://localhost:8080/",
     "height": 127
    },
    "executionInfo": {
     "elapsed": 51,
     "status": "ok",
     "timestamp": 1755102998669,
     "user": {
      "displayName": "Ma Alejandra Gómez",
      "userId": "07798891724586492238"
     },
     "user_tz": -120
    },
    "id": "t5gVtaTC9fT1",
    "outputId": "28371ef2-082a-4e66-da40-4c2cb643f586"
   },
   "outputs": [
    {
     "data": {
      "application/vnd.google.colaboratory.intrinsic+json": {
       "type": "string"
      },
      "text/plain": [
       "'# Busqueda de hiperparametros\\n# Modelo base\\nbase_tree = DecisionTreeClassifier(random_state=42)\\n\\n# Definir el modelo EasyEnsemble con el nombre correcto del parámetro\\neec = EasyEnsembleClassifier(\\n    estimator=base_tree,\\n    random_state=42\\n)\\n\\n# Espacio de búsqueda de hiperparámetros (usando estimator__)\\nparam_dist = {\\n    \\'n_estimators\\': [10, 20, 50, 100],\\n    \\'estimator__max_depth\\': [None, 5, 10, 15],\\n    \\'estimator__min_samples_split\\': [2, 5, 10],\\n    \\'estimator__min_samples_leaf\\': [1, 2, 4],\\n    \\'estimator__max_features\\': [None, \\'sqrt\\', \\'log2\\'],\\n    \\'sampling_strategy\\': [\\'auto\\', 0.5, 0.75, 1.0]\\n}\\n\\n# Búsqueda aleatoria\\nrandom_search = RandomizedSearchCV(\\n    estimator=eec,\\n    param_distributions=param_dist,\\n    n_iter=20,  # número de combinaciones a probar\\n    scoring=\\'balanced_accuracy\\',\\n    cv=3,\\n    random_state=42,\\n    n_jobs=-1,\\n    verbose=2\\n)\\n\\n# Ajustar búsqueda\\nrandom_search.fit(X_train_seleccionado, y_train)\\n\\n# Mostrar resultados\\nprint(\"Mejores hiperparámetros:\", random_search.best_params_)\\nprint(\"Mejor balanced_accuracy en CV:\", random_search.best_score_)'"
      ]
     },
     "execution_count": 13,
     "metadata": {},
     "output_type": "execute_result"
    }
   ],
   "source": [
    "\"\"\"# Busqueda de hiperparametros\n",
    "# Modelo base\n",
    "base_tree = DecisionTreeClassifier(random_state=42)\n",
    "\n",
    "# Definir el modelo EasyEnsemble con el nombre correcto del parámetro\n",
    "eec = EasyEnsembleClassifier(\n",
    "    estimator=base_tree,\n",
    "    random_state=42\n",
    ")\n",
    "\n",
    "# Espacio de búsqueda de hiperparámetros (usando estimator__)\n",
    "param_dist = {\n",
    "    'n_estimators': [10, 20, 50, 100],\n",
    "    'estimator__max_depth': [None, 5, 10, 15],\n",
    "    'estimator__min_samples_split': [2, 5, 10],\n",
    "    'estimator__min_samples_leaf': [1, 2, 4],\n",
    "    'estimator__max_features': [None, 'sqrt', 'log2'],\n",
    "    'sampling_strategy': ['auto', 0.5, 0.75, 1.0]\n",
    "}\n",
    "\n",
    "# Búsqueda aleatoria\n",
    "random_search = RandomizedSearchCV(\n",
    "    estimator=eec,\n",
    "    param_distributions=param_dist,\n",
    "    n_iter=20,  # número de combinaciones a probar\n",
    "    scoring='balanced_accuracy',\n",
    "    cv=3,\n",
    "    random_state=42,\n",
    "    n_jobs=-1,\n",
    "    verbose=2\n",
    ")\n",
    "\n",
    "# Ajustar búsqueda\n",
    "random_search.fit(X_train_seleccionado, y_train)\n",
    "\n",
    "# Mostrar resultados\n",
    "print(\"Mejores hiperparámetros:\", random_search.best_params_)\n",
    "print(\"Mejor balanced_accuracy en CV:\", random_search.best_score_)\"\"\""
   ]
  },
  {
   "cell_type": "code",
   "execution_count": 14,
   "metadata": {
    "colab": {
     "base_uri": "https://localhost:8080/",
     "height": 853
    },
    "executionInfo": {
     "elapsed": 11812,
     "status": "ok",
     "timestamp": 1755103010490,
     "user": {
      "displayName": "Ma Alejandra Gómez",
      "userId": "07798891724586492238"
     },
     "user_tz": -120
    },
    "id": "igicBeTpSUeD",
    "outputId": "aee9dd74-3774-4c1d-d016-85b409eeb15b"
   },
   "outputs": [
    {
     "name": "stderr",
     "output_type": "stream",
     "text": [
      "/usr/local/lib/python3.11/dist-packages/sklearn/ensemble/_bagging.py:878: DataConversionWarning: A column-vector y was passed when a 1d array was expected. Please change the shape of y to (n_samples, ), for example using ravel().\n",
      "  y = column_or_1d(y, warn=True)\n"
     ]
    },
    {
     "data": {
      "image/png": "[encoded data removed]",
      "text/plain": [
       "<Figure size 800x500 with 1 Axes>"
      ]
     },
     "metadata": {},
     "output_type": "display_data"
    },
    {
     "name": "stdout",
     "output_type": "stream",
     "text": [
      "EasyEnsembleClassifier:\n",
      "Balanced Accuracy: 0.6408224920788252\n",
      "F1 Score promedio: 0.5445513135144373\n",
      "\n",
      "Classification Report:\n",
      "               precision    recall  f1-score   support\n",
      "\n",
      "           0       0.90      0.55      0.68     15534\n",
      "           1       0.28      0.73      0.40      3703\n",
      "\n",
      "    accuracy                           0.59     19237\n",
      "   macro avg       0.59      0.64      0.54     19237\n",
      "weighted avg       0.78      0.59      0.63     19237\n",
      "\n",
      "Confusion Matrix:\n",
      " [[8612 6922]\n",
      " [1010 2693]]\n"
     ]
    }
   ],
   "source": [
    "# Entrenar\n",
    "eec = EasyEnsembleClassifier(n_estimators=50, n_jobs=-1, random_state=42)\n",
    "eec.fit(X_train_seleccionado, y_train)\n",
    "\n",
    "# Probabilidades clase positiva (1)\n",
    "y_proba_eec = eec.predict_proba(X_test_seleccionado)[:, 1]\n",
    "\n",
    "# Umbrales\n",
    "thresholds_eec = np.linspace(0.4, 0.6, 101)\n",
    "recall_class_0_eec = []\n",
    "recall_class_1_eec = []\n",
    "\n",
    "for thr in thresholds_eec:\n",
    "    y_pred_temp = (y_proba_eec >= thr).astype(int)\n",
    "    recall_class_0_eec.append(recall_score(y_test, y_pred_temp, pos_label=0))\n",
    "    recall_class_1_eec.append(recall_score(y_test, y_pred_temp, pos_label=1))\n",
    "\n",
    "# Gráfico\n",
    "plt.figure(figsize=(8, 5))\n",
    "plt.plot(thresholds_eec, recall_class_0_eec, label=\"Recall clase 0 (No riesgo)\", color=\"blue\")\n",
    "plt.plot(thresholds_eec, recall_class_1_eec, label=\"Recall clase 1 (Riesgo)\", color=\"red\")\n",
    "plt.axvline(x=0.495, color=\"green\", linestyle=\"--\", label=\"Umbral seleccionado\")\n",
    "plt.xlabel(\"Umbral\")\n",
    "plt.ylabel(\"Recall\")\n",
    "plt.title(\"EasyEnsembleClassifier - Recall por clase vs Umbral\")\n",
    "plt.legend()\n",
    "plt.grid(True)\n",
    "plt.show()\n",
    "\n",
    "# Evaluar\n",
    "threshold_eec = 0.495\n",
    "y_pred_eec = (y_proba_eec >= threshold_eec).astype(int)\n",
    "\n",
    "print(\"EasyEnsembleClassifier:\")\n",
    "print(\"Balanced Accuracy:\", balanced_accuracy_score(y_test, y_pred_eec))\n",
    "print(\"F1 Score promedio:\", f1_score(y_test, y_pred_eec, average='macro'))\n",
    "print(\"\\nClassification Report:\\n\", classification_report(y_test, y_pred_eec))\n",
    "print(\"Confusion Matrix:\\n\", confusion_matrix(y_test, y_pred_eec))"
   ]
  },
  {
   "cell_type": "markdown",
   "metadata": {
    "id": "FPfNCnUjYz_S"
   },
   "source": [
    "## Balanced Random Forest"
   ]
  },
  {
   "cell_type": "code",
   "execution_count": 15,
   "metadata": {
    "colab": {
     "base_uri": "https://localhost:8080/",
     "height": 127
    },
    "executionInfo": {
     "elapsed": 42,
     "status": "ok",
     "timestamp": 1755103010543,
     "user": {
      "displayName": "Ma Alejandra Gómez",
      "userId": "07798891724586492238"
     },
     "user_tz": -120
    },
    "id": "tXkdcq_vBO42",
    "outputId": "23014b33-81fb-480d-ef6e-653a15f08186"
   },
   "outputs": [
    {
     "data": {
      "application/vnd.google.colaboratory.intrinsic+json": {
       "type": "string"
      },
      "text/plain": [
       "'# Busqueda de hiperparametros\\n# Espacio de búsqueda\\nparam_dist_brf = {\\n    \\'n_estimators\\': [100, 200, 300, 500],  # cantidad de árboles\\n    \\'max_depth\\': [ 15, 20, 25, 30],  # profundidad máxima\\n    \\'min_samples_split\\': [2, 5, 10],  # mínimo de muestras para dividir\\n    \\'min_samples_leaf\\': [1, 2, 4],  # mínimo de muestras en una hoja\\n    \\'max_features\\': [\\'sqrt\\', \\'log2\\', None],  # número de features usadas\\n    \\'class_weight\\': [None, \\'balanced\\', \\'balanced_subsample\\',\\n                     {0: 1.0, 1: len(y_train[y_train==0]) / len(y_train[y_train==1])}],  # pesos de clase\\n    \\'bootstrap\\': [True, False]  # si hacer muestreo con reemplazo\\n}\\n\\n# Definir el modelo\\nbrf = BalancedRandomForestClassifier(random_state=42)\\n\\n# Búsqueda aleatoria\\nrandom_search_brf = RandomizedSearchCV(\\n    estimator=brf,\\n    param_distributions=param_dist_brf,\\n    n_iter=20,  # cantidad de combinaciones a probar\\n    scoring=\\'f1_macro\\',  # métrica que optimizamos\\n    cv=3,  # validación cruzada\\n    random_state=42,\\n    n_jobs=-1,  # todos los núcleos\\n    verbose=2\\n)\\n\\n# Entrenar búsqueda\\nrandom_search_brf.fit(X_train_seleccionado, y_train)\\n\\n# Resultados\\nprint(\"Mejores hiperparámetros:\", random_search_brf.best_params_)\\nprint(\"Mejor balanced_accuracy en CV:\", random_search_brf.best_score_)'"
      ]
     },
     "execution_count": 15,
     "metadata": {},
     "output_type": "execute_result"
    }
   ],
   "source": [
    "\"\"\"# Busqueda de hiperparametros\n",
    "# Espacio de búsqueda\n",
    "param_dist_brf = {\n",
    "    'n_estimators': [100, 200, 300, 500],  # cantidad de árboles\n",
    "    'max_depth': [ 15, 20, 25, 30],  # profundidad máxima\n",
    "    'min_samples_split': [2, 5, 10],  # mínimo de muestras para dividir\n",
    "    'min_samples_leaf': [1, 2, 4],  # mínimo de muestras en una hoja\n",
    "    'max_features': ['sqrt', 'log2', None],  # número de features usadas\n",
    "    'class_weight': [None, 'balanced', 'balanced_subsample',\n",
    "                     {0: 1.0, 1: len(y_train[y_train==0]) / len(y_train[y_train==1])}],  # pesos de clase\n",
    "    'bootstrap': [True, False]  # si hacer muestreo con reemplazo\n",
    "}\n",
    "\n",
    "# Definir el modelo\n",
    "brf = BalancedRandomForestClassifier(random_state=42)\n",
    "\n",
    "# Búsqueda aleatoria\n",
    "random_search_brf = RandomizedSearchCV(\n",
    "    estimator=brf,\n",
    "    param_distributions=param_dist_brf,\n",
    "    n_iter=20,  # cantidad de combinaciones a probar\n",
    "    scoring='f1_macro',  # métrica que optimizamos\n",
    "    cv=3,  # validación cruzada\n",
    "    random_state=42,\n",
    "    n_jobs=-1,  # todos los núcleos\n",
    "    verbose=2\n",
    ")\n",
    "\n",
    "# Entrenar búsqueda\n",
    "random_search_brf.fit(X_train_seleccionado, y_train)\n",
    "\n",
    "# Resultados\n",
    "print(\"Mejores hiperparámetros:\", random_search_brf.best_params_)\n",
    "print(\"Mejor balanced_accuracy en CV:\", random_search_brf.best_score_)\"\"\""
   ]
  },
  {
   "cell_type": "code",
   "execution_count": 31,
   "metadata": {
    "colab": {
     "base_uri": "https://localhost:8080/",
     "height": 543
    },
    "executionInfo": {
     "elapsed": 1304,
     "status": "ok",
     "timestamp": 1755103925417,
     "user": {
      "displayName": "Ma Alejandra Gómez",
      "userId": "07798891724586492238"
     },
     "user_tz": -120
    },
    "id": "vUGDgqoaYr8X",
    "outputId": "ead9af7a-cbc6-48ee-d7a6-91103b0345ca"
   },
   "outputs": [
    {
     "name": "stderr",
     "output_type": "stream",
     "text": [
      "/usr/local/lib/python3.11/dist-packages/sklearn/base.py:1389: DataConversionWarning: A column-vector y was passed when a 1d array was expected. Please change the shape of y to (n_samples,), for example using ravel().\n",
      "  return fit_method(estimator, *args, **kwargs)\n"
     ]
    },
    {
     "data": {
      "image/png": "[encoded data removed]",
      "text/plain": [
       "<Figure size 800x500 with 1 Axes>"
      ]
     },
     "metadata": {},
     "output_type": "display_data"
    }
   ],
   "source": [
    "# Generar un modelo BalancedRandomForestClassifier\n",
    "brf = BalancedRandomForestClassifier(\n",
    "    n_estimators=10,\n",
    "    max_depth=20,\n",
    "    min_samples_leaf=10,\n",
    "    class_weight=class_weights,\n",
    "    n_jobs=-1,\n",
    "    random_state=42\n",
    ")\n",
    "brf.fit(X_train_seleccionado, y_train)\n",
    "\n",
    "# Probabilidades\n",
    "y_proba_brf = brf.predict_proba(X_test_seleccionado)[:, 1]\n",
    "\n",
    "# Umbrales\n",
    "thresholds_brf = np.linspace(0.2, 0.8, 101)\n",
    "recall_class_0_brf = []\n",
    "recall_class_1_brf = []\n",
    "\n",
    "for thr in thresholds_brf:\n",
    "    y_pred_temp = (y_proba_brf >= thr).astype(int)\n",
    "    recall_class_0_brf.append(recall_score(y_test, y_pred_temp, pos_label=0))\n",
    "    recall_class_1_brf.append(recall_score(y_test, y_pred_temp, pos_label=1))\n",
    "\n",
    "umbral=0.75\n",
    "\n",
    "# Gráfico\n",
    "plt.figure(figsize=(8, 5))\n",
    "plt.plot(thresholds_brf, recall_class_0_brf, label=\"Recall clase 0 (No riesgo)\", color=\"blue\")\n",
    "plt.plot(thresholds_brf, recall_class_1_brf, label=\"Recall clase 1 (Riesgo)\", color=\"red\")\n",
    "plt.axvline(x=umbral, color=\"green\", linestyle=\"--\", label=\"Umbral seleccionado\")\n",
    "plt.xlabel(\"Umbral\")\n",
    "plt.ylabel(\"Recall\")\n",
    "plt.title(\"BalancedRandomForestClassifier - Recall por clase vs Umbral\")\n",
    "plt.legend()\n",
    "plt.grid(True)\n",
    "plt.show()"
   ]
  },
  {
   "cell_type": "code",
   "execution_count": 32,
   "metadata": {
    "executionInfo": {
     "elapsed": 40,
     "status": "ok",
     "timestamp": 1755103931418,
     "user": {
      "displayName": "Ma Alejandra Gómez",
      "userId": "07798891724586492238"
     },
     "user_tz": -120
    },
    "id": "Y7CFEO8oFdGp"
   },
   "outputs": [],
   "source": [
    "def evaluar_modelo(modelo, X_train, y_train, X_test, y_test, threshold):\n",
    "    # ====== TRAIN ======\n",
    "    y_proba_train = modelo.predict_proba(X_train)[:, 1]\n",
    "    y_pred_train = (y_proba_train >= threshold).astype(int)\n",
    "\n",
    "    print(\"\\n--- MÉTRICAS TRAIN ---\")\n",
    "    print(\"ROC AUC:\", roc_auc_score(y_train, y_proba_train))\n",
    "    print(\"Balanced Accuracy:\", balanced_accuracy_score(y_train, y_pred_train))\n",
    "    print(\"F1 Score macro:\", f1_score(y_train, y_pred_train, average='macro'))\n",
    "    print(classification_report(y_train, y_pred_train))\n",
    "    print(\"Confusion Matrix:\\n\", confusion_matrix(y_train, y_pred_train))\n",
    "\n",
    "    # ====== TEST ======\n",
    "    y_proba_test = modelo.predict_proba(X_test)[:, 1]\n",
    "    y_pred_test = (y_proba_test >= threshold).astype(int)\n",
    "\n",
    "    print(\"\\n--- MÉTRICAS TEST ---\")\n",
    "    print(\"ROC AUC:\", roc_auc_score(y_test, y_proba_test))\n",
    "    print(\"Balanced Accuracy:\", balanced_accuracy_score(y_test, y_pred_test))\n",
    "    print(\"F1 Score macro:\", f1_score(y_test, y_pred_test, average='macro'))\n",
    "    print(classification_report(y_test, y_pred_test))\n",
    "    print(\"Confusion Matrix:\\n\", confusion_matrix(y_test, y_pred_test))"
   ]
  },
  {
   "cell_type": "code",
   "execution_count": 33,
   "metadata": {
    "colab": {
     "base_uri": "https://localhost:8080/"
    },
    "executionInfo": {
     "elapsed": 114,
     "status": "ok",
     "timestamp": 1755103933780,
     "user": {
      "displayName": "Ma Alejandra Gómez",
      "userId": "07798891724586492238"
     },
     "user_tz": -120
    },
    "id": "mgkMrRI7FqXO",
    "outputId": "4b200fec-c091-4625-e991-abfa6390292c"
   },
   "outputs": [
    {
     "name": "stdout",
     "output_type": "stream",
     "text": [
      "\n",
      "--- MÉTRICAS TRAIN ---\n",
      "ROC AUC: 0.8485480585530168\n",
      "Balanced Accuracy: 0.7531622831645661\n",
      "F1 Score macro: 0.6732914272305923\n",
      "              precision    recall  f1-score   support\n",
      "\n",
      "           0       0.93      0.72      0.81     62136\n",
      "           1       0.40      0.78      0.53     14809\n",
      "\n",
      "    accuracy                           0.73     76945\n",
      "   macro avg       0.67      0.75      0.67     76945\n",
      "weighted avg       0.83      0.73      0.76     76945\n",
      "\n",
      "Confusion Matrix:\n",
      " [[44917 17219]\n",
      " [ 3207 11602]]\n",
      "\n",
      "--- MÉTRICAS TEST ---\n",
      "ROC AUC: 0.7608248956641275\n",
      "Balanced Accuracy: 0.6834254765647652\n",
      "F1 Score macro: 0.618811654036777\n",
      "              precision    recall  f1-score   support\n",
      "\n",
      "           0       0.90      0.69      0.78     15534\n",
      "           1       0.34      0.67      0.46      3703\n",
      "\n",
      "    accuracy                           0.69     19237\n",
      "   macro avg       0.62      0.68      0.62     19237\n",
      "weighted avg       0.79      0.69      0.72     19237\n",
      "\n",
      "Confusion Matrix:\n",
      " [[10762  4772]\n",
      " [ 1207  2496]]\n"
     ]
    }
   ],
   "source": [
    "# BalancedRandomForestClassifier\n",
    "evaluar_modelo(brf, X_train_seleccionado, y_train, X_test_seleccionado, y_test, threshold=umbral)"
   ]
  },
  {
   "cell_type": "markdown",
   "metadata": {
    "id": "oNNEztRkSSTM"
   },
   "source": [
    "## Guardar el modelo"
   ]
  },
  {
   "cell_type": "code",
   "execution_count": 19,
   "metadata": {
    "colab": {
     "base_uri": "https://localhost:8080/"
    },
    "executionInfo": {
     "elapsed": 5717,
     "status": "ok",
     "timestamp": 1755103019231,
     "user": {
      "displayName": "Ma Alejandra Gómez",
      "userId": "07798891724586492238"
     },
     "user_tz": -120
    },
    "id": "XSz0Cg5AWxiW",
    "outputId": "f1f120f2-cd76-4361-9fbe-cc0a468ecf3d"
   },
   "outputs": [
    {
     "data": {
      "text/plain": [
       "['/content/drive/MyDrive/proyecto_microcreditos/modelos/modelo_bfr.pkl']"
      ]
     },
     "execution_count": 19,
     "metadata": {},
     "output_type": "execute_result"
    }
   ],
   "source": [
    "carpeta = '/content/drive/MyDrive/proyecto_microcreditos/modelos'\n",
    "os.makedirs(carpeta, exist_ok=True)\n",
    "ruta_archivo = os.path.join(carpeta, 'modelo_bfr.pkl')\n",
    "dump(brf, ruta_archivo)"
   ]
  }
 ],
 "metadata": {
  "colab": {
   "authorship_tag": "ABX9TyOZZmA4iX5AToixfoQ6Hanw",
   "machine_shape": "hm",
   "mount_file_id": "12FZ5rbECUWZMMT1FOgJMSu_Zi3yp7p4B",
   "provenance": [
    {
     "file_id": "12FZ5rbECUWZMMT1FOgJMSu_Zi3yp7p4B",
     "timestamp": 1753898280540
    }
   ],
   "toc_visible": true
  },
  "kernelspec": {
   "display_name": "Python 3",
   "name": "python3"
  },
  "language_info": {
   "name": "python",
   "version": "3.11.4"
  }
 },
 "nbformat": 4,
 "nbformat_minor": 0
}
