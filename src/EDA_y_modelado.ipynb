{
  "cells": [
    {
      "cell_type": "markdown",
      "metadata": {
        "id": "T9wuz3f2gCPI"
      },
      "source": [
        "# PROYECTO MICROCREDITO"
      ]
    },
    {
      "cell_type": "code",
      "execution_count": null,
      "metadata": {
        "colab": {
          "base_uri": "https://localhost:8080/"
        },
        "id": "gniUMhn-jOJS",
        "outputId": "46442057-fa9e-4b36-e0c2-e33152d0c78c"
      },
      "outputs": [],
      "source": [
        "!pip install unidecode\n",
        "!pip install lazypredict"
      ]
    },
    {
      "cell_type": "markdown",
      "metadata": {
        "id": "WC9pHBanf88O"
      },
      "source": [
        "##Importaciones"
      ]
    },
    {
      "cell_type": "code",
      "execution_count": null,
      "metadata": {
        "id": "y3CJ1W3MtbAw"
      },
      "outputs": [],
      "source": [
        "import pandas as pd\n",
        "import numpy as np\n",
        "import matplotlib.pyplot as plt\n",
        "import seaborn as sns\n",
        "from unidecode import unidecode\n",
        "import re\n",
        "from google.colab import drive\n",
        "from sklearn.model_selection import train_test_split\n",
        "import matplotlib.pyplot as plt\n",
        "import unicodedata\n",
        "from sklearn.metrics import accuracy_score, precision_score, recall_score, f1_score, roc_auc_score, confusion_matrix\n",
        "from sklearn.impute import KNNImputer\n",
        "from sklearn.preprocessing import StandardScaler\n",
        "from sentence_transformers import SentenceTransformer\n",
        "from sklearn.ensemble import RandomForestClassifier\n",
        "from sklearn.metrics import accuracy_score, f1_score\n",
        "from sklearn.ensemble import GradientBoostingClassifier\n",
        "from lazypredict.Supervised import LazyClassifier\n",
        "from sklearn.metrics import classification_report\n",
        "from lightgbm import LGBMClassifier\n",
        "from catboost import CatBoostClassifier\n",
        "from sklearn.linear_model import LogisticRegression, RidgeClassifier\n",
        "from sklearn.tree import DecisionTreeClassifier\n",
        "from sklearn.naive_bayes import BernoulliNB"
      ]
    },
    {
      "cell_type": "markdown",
      "metadata": {
        "id": "I9nH9YqJfkZ2"
      },
      "source": [
        "## Carga de datos"
      ]
    },
    {
      "cell_type": "code",
      "execution_count": null,
      "metadata": {
        "colab": {
          "base_uri": "https://localhost:8080/"
        },
        "id": "xglSKNAO2Qpv",
        "outputId": "972260b2-0c45-4706-855a-5cfa15fbe3a3"
      },
      "outputs": [],
      "source": [
        "# Montar drive\n",
        "drive.mount('/content/drive')\n",
        "\n",
        "# Desmontar drive inmediatamente\n",
        "#drive.flush_and_unmount()"
      ]
    },
    {
      "cell_type": "code",
      "execution_count": null,
      "metadata": {
        "id": "HZvch1n906W5"
      },
      "outputs": [],
      "source": [
        "# Guardo el archivo de info formulario como un dataframe\n",
        "df_unificado_total = pd.read_csv('/content/drive/MyDrive/proyecto_microcreditos/data/processed/df_unificado_total.csv')"
      ]
    },
    {
      "cell_type": "code",
      "execution_count": null,
      "metadata": {
        "id": "Iw4sfeb6WQOZ"
      },
      "outputs": [],
      "source": [
        "# Configurar la opcion para ver todas las columnas\n",
        "pd.set_option('display.max_columns', None)"
      ]
    },
    {
      "cell_type": "code",
      "execution_count": null,
      "metadata": {
        "id": "wOPKrsp4_-T0"
      },
      "outputs": [],
      "source": [
        "pd.set_option('display.max_rows', 500)"
      ]
    },
    {
      "cell_type": "markdown",
      "metadata": {
        "id": "JSup2QiCCqS-"
      },
      "source": [
        "## EDA"
      ]
    },
    {
      "cell_type": "markdown",
      "metadata": {
        "id": "zjHA-9COKeOC"
      },
      "source": [
        "### Análisis y limpieza"
      ]
    },
    {
      "cell_type": "code",
      "execution_count": null,
      "metadata": {
        "colab": {
          "base_uri": "https://localhost:8080/"
        },
        "id": "srSArEtF7xk9",
        "outputId": "47c02076-bc02-445d-982a-f3df209a39d2"
      },
      "outputs": [],
      "source": [
        "df_unificado_total.info()"
      ]
    },
    {
      "cell_type": "code",
      "execution_count": null,
      "metadata": {
        "id": "6Z7x27blZpwA"
      },
      "outputs": [],
      "source": [
        "# Convertir suma_ingresos a numerico\n",
        "df_unificado_total['suma_ingresos'] = pd.to_numeric(df_unificado_total['suma_ingresos'], errors='coerce')"
      ]
    },
    {
      "cell_type": "code",
      "execution_count": null,
      "metadata": {
        "colab": {
          "base_uri": "https://localhost:8080/",
          "height": 449
        },
        "id": "OXLbRZytPpYX",
        "outputId": "d835d62f-8ce4-40ae-a06b-9daeee37d84f"
      },
      "outputs": [],
      "source": [
        "df_unificado_total.describe(include='all')  # para ver estadísticas generales"
      ]
    },
    {
      "cell_type": "markdown",
      "metadata": {
        "id": "XcEJ-JhrRtEt"
      },
      "source": [
        "**Observacion:** Porqué hay un -1 en antiguedad de ocupacion?"
      ]
    },
    {
      "cell_type": "code",
      "execution_count": null,
      "metadata": {
        "colab": {
          "base_uri": "https://localhost:8080/"
        },
        "id": "-PoHaUI3RxL3",
        "outputId": "0e47d5a0-d919-4f9a-baaf-f4c4a5162fa5"
      },
      "outputs": [],
      "source": [
        "df_unificado_total['antiguedad_ocupacion'].value_counts()[-1] # Cantidad de valores en -1"
      ]
    },
    {
      "cell_type": "code",
      "execution_count": null,
      "metadata": {
        "id": "5or6lIOcS-pe"
      },
      "outputs": [],
      "source": [
        "df_unificado_total['antiguedad_ocupacion'] = df_unificado_total['antiguedad_ocupacion'].replace(-1, 0)"
      ]
    },
    {
      "cell_type": "markdown",
      "metadata": {
        "id": "Bpjcs-nQi0Hq"
      },
      "source": [
        "#### Distribuciones de variables numericas"
      ]
    },
    {
      "cell_type": "code",
      "execution_count": null,
      "metadata": {
        "colab": {
          "base_uri": "https://localhost:8080/",
          "height": 1000
        },
        "id": "M6ipM-8aaRI4",
        "outputId": "e4bfab81-d991-4367-90f9-d06a6054816f"
      },
      "outputs": [],
      "source": [
        "# Obtener los nombres de las columnas con tipos de datos numéricos\n",
        "num_vars = df_unificado_total.select_dtypes(include=['number']).columns\n",
        "\n",
        "# Histogramas\n",
        "df_unificado_total[num_vars].hist(figsize=(15, 12), bins=30)\n",
        "plt.tight_layout()\n",
        "plt.show()\n",
        "\n",
        "# Boxplots para detectar outliers\n",
        "for col in num_vars:\n",
        "    sns.boxplot(x=df_unificado_total[col])\n",
        "    plt.title(f'Distribución de {col}')\n",
        "    plt.show()"
      ]
    },
    {
      "cell_type": "markdown",
      "metadata": {
        "id": "8rGoDjfHe0zF"
      },
      "source": [
        "**Observación:** Se eben validar las columnas 'suma_ingresos' y 'antiguedad_ocupacion', ya que presentan valores atipicos muy altos"
      ]
    },
    {
      "cell_type": "code",
      "execution_count": null,
      "metadata": {
        "colab": {
          "base_uri": "https://localhost:8080/"
        },
        "id": "iIKGzyL-gL71",
        "outputId": "5637d4fc-5aa6-4b96-ce0e-b10805dcd454"
      },
      "outputs": [],
      "source": [
        "# Variables a evaluar\n",
        "variables = ['suma_ingresos', 'antiguedad_ocupacion']\n",
        "\n",
        "# Total de registros\n",
        "total_rows = len(df_unificado_total)\n",
        "\n",
        "# Función para evaluar outliers\n",
        "for col in variables:\n",
        "    print(f\"\\n Análisis de outliers para: {col}\")\n",
        "\n",
        "    # Calcular percentiles\n",
        "    p99 = df_unificado_total[col].quantile(0.99)\n",
        "    p999 = df_unificado_total[col].quantile(0.999)\n",
        "\n",
        "    # Contar valores mayores\n",
        "    out_99 = (df_unificado_total[col] > p99).sum()\n",
        "    out_999 = (df_unificado_total[col] > p999).sum()\n",
        "\n",
        "    # Mostrar resultados\n",
        "    print(f\"  - Valor percentil 99: {p99:,.2f}\")\n",
        "    print(f\"  - Valor percentil 99.9: {p999:,.2f}\")\n",
        "    print(f\"  - Registros > P99: {out_99} ({out_99 / total_rows:.2%})\")\n",
        "    print(f\"  - Registros > P99.9: {out_999} ({out_999 / total_rows:.2%})\")"
      ]
    },
    {
      "cell_type": "markdown",
      "metadata": {
        "id": "GtNsH1jlh2tx"
      },
      "source": [
        "**Observacion:** Se van a eliminar los que esten por encima del percentil 99, ya que los valores tomados por las variables en ese punto son coherentes"
      ]
    },
    {
      "cell_type": "code",
      "execution_count": null,
      "metadata": {
        "colab": {
          "base_uri": "https://localhost:8080/"
        },
        "id": "PAA_-GCfhkxY",
        "outputId": "5ef75618-f01f-4c6f-b220-b15bd1513c06"
      },
      "outputs": [],
      "source": [
        "# Definir umbrales\n",
        "p99_suma_ingresos = df_unificado_total['suma_ingresos'].quantile(0.99)\n",
        "p99_antiguedad = df_unificado_total['antiguedad_ocupacion'].quantile(0.99)\n",
        "\n",
        "# Filtrar registros sin outliers extremos\n",
        "df_filtrado = df_unificado_total[\n",
        "    (df_unificado_total['suma_ingresos'] <= p99_suma_ingresos) &\n",
        "    (df_unificado_total['antiguedad_ocupacion'] <= p99_antiguedad)\n",
        "]\n",
        "\n",
        "# Mostrar cuántos registros quedan\n",
        "print(f\"Registros originales: {len(df_unificado_total)}\")\n",
        "print(f\"Registros sin outliers (>P99.9): {len(df_filtrado)}\")\n",
        "print(f\"Eliminados: {len(df_unificado_total) - len(df_filtrado)} registros ({(1 - len(df_filtrado)/len(df_unificado_total)):.2%})\")"
      ]
    },
    {
      "cell_type": "markdown",
      "metadata": {
        "id": "kJu5tfWMi7VT"
      },
      "source": [
        "#### Distribución de variables categoricas"
      ]
    },
    {
      "cell_type": "code",
      "execution_count": null,
      "metadata": {
        "id": "V235GN81nwy7"
      },
      "outputs": [],
      "source": [
        "# Convertir automáticamente todas las columnas object a category\n",
        "for col in df_unificado_total.select_dtypes(include='object').columns:\n",
        "    df_unificado_total[col] = df_unificado_total[col].astype('category')\n",
        "\n",
        "# Obtener los nombres de las columnas categóricas\n",
        "cat_vars = df_unificado_total.select_dtypes(include=['category']).columns"
      ]
    },
    {
      "cell_type": "code",
      "execution_count": null,
      "metadata": {
        "id": "1035W3UgnknW"
      },
      "outputs": [],
      "source": [
        "def limpiar_texto(texto):\n",
        "    if isinstance(texto, str):\n",
        "        # Quitar acentos\n",
        "        texto = unicodedata.normalize('NFKD', texto).encode('ascii', 'ignore').decode('utf-8')\n",
        "        # Pasar a minúsculas y quitar espacios\n",
        "        return texto.strip().lower()\n",
        "    return texto  # Dejar valores no string (ej. NaN) sin tocar"
      ]
    },
    {
      "cell_type": "code",
      "execution_count": null,
      "metadata": {
        "id": "fsyGLtLOnnr9"
      },
      "outputs": [],
      "source": [
        "# Aplicar limpieza a cada valor en cada columna categórica\n",
        "for col in cat_vars:\n",
        "    df_unificado_total[col] = df_unificado_total[col].apply(limpiar_texto)"
      ]
    },
    {
      "cell_type": "code",
      "execution_count": null,
      "metadata": {
        "id": "dh3d2zhzpPQb"
      },
      "outputs": [],
      "source": [
        "# Convertir columnas categóricas a tipo 'category' después de limpiar\n",
        "for col in cat_vars:\n",
        "    df_unificado_total[col] = df_unificado_total[col].astype('category')"
      ]
    },
    {
      "cell_type": "code",
      "execution_count": null,
      "metadata": {
        "colab": {
          "base_uri": "https://localhost:8080/",
          "height": 1000
        },
        "id": "SEeUi4DRiQN-",
        "outputId": "0f81937b-4dd7-4a5a-b0a7-4d2fea646aaa"
      },
      "outputs": [],
      "source": [
        "# Graficacion de distribución de variables categoricas\n",
        "# Conteo de frecuencia\n",
        "for col in cat_vars:\n",
        "    if df_unificado_total[col].nunique() <= 10:\n",
        "        print(df_unificado_total[col].value_counts(normalize=True) * 100)\n",
        "        sns.countplot(x=col, data=df_unificado_total)\n",
        "        plt.title(f'Distribución de {col}')\n",
        "        plt.xticks(rotation=45)\n",
        "        plt.show()"
      ]
    },
    {
      "cell_type": "code",
      "execution_count": null,
      "metadata": {
        "colab": {
          "base_uri": "https://localhost:8080/",
          "height": 1000
        },
        "id": "qQPdOxfclI3b",
        "outputId": "864ea1c8-eb42-46d2-8be8-659f7a4c6d1f"
      },
      "outputs": [],
      "source": [
        "for col in cat_vars:\n",
        "    if df_unificado_total[col].nunique() > 10:\n",
        "        # Obtener top 10 valores únicos más frecuentes\n",
        "        top10 = df_unificado_total[col].value_counts().nlargest(10)\n",
        "\n",
        "        # Crear figura\n",
        "        plt.figure(figsize=(8, 4))\n",
        "        sns.barplot(x=top10.values, y=top10.index.astype(str))\n",
        "        plt.title(f'Top 10 valores en {col}')\n",
        "        plt.xlabel(\"Frecuencia\")\n",
        "        plt.ylabel(col)\n",
        "        plt.tight_layout()\n",
        "        plt.show()"
      ]
    },
    {
      "cell_type": "markdown",
      "metadata": {
        "id": "PXNRb5rPUMJA"
      },
      "source": [
        "### Verificacion de valores nulos"
      ]
    },
    {
      "cell_type": "code",
      "execution_count": null,
      "metadata": {
        "colab": {
          "base_uri": "https://localhost:8080/",
          "height": 583
        },
        "id": "cdDwxIowfN03",
        "outputId": "7b3a3621-561f-43e6-8538-60ba0e4e7172"
      },
      "outputs": [],
      "source": [
        "# Verificar nulos: cantidad y porcentaje\n",
        "nulos = df_unificado_total.isnull().sum()\n",
        "porcentaje = (nulos / len(df_unificado_total)) * 100\n",
        "\n",
        "# Crear un DataFrame ordenado por % de nulos\n",
        "nulos_df = pd.DataFrame({\n",
        "    'cantidad_nulos': nulos,\n",
        "    'porcentaje_nulos': porcentaje\n",
        "}).sort_values(by='porcentaje_nulos', ascending=False)\n",
        "\n",
        "# Mostrar las columnas con al menos un nulo\n",
        "nulos_df[nulos_df['cantidad_nulos'] > 0]"
      ]
    },
    {
      "cell_type": "markdown",
      "metadata": {
        "id": "Nxnwvc7gwcsC"
      },
      "source": [
        "#### Enriquecimiento de categoricos con asofondos y mareigua"
      ]
    },
    {
      "cell_type": "code",
      "execution_count": null,
      "metadata": {
        "colab": {
          "base_uri": "https://localhost:8080/"
        },
        "id": "CLfyvNHV2UV3",
        "outputId": "73475144-7c4e-47e9-94cd-e2096864519b"
      },
      "outputs": [],
      "source": [
        "# Copia de trabajo\n",
        "df_copy = df_unificado_total.copy()\n",
        "\n",
        "# Convertir temporalmente a object\n",
        "df_copy['empresa'] = df_copy['empresa'].astype('object')\n",
        "df_copy['eps'] = df_copy['eps'].astype('object')\n",
        "\n",
        "# ----------- EMPRESA -----------\n",
        "\n",
        "cond_empresa = df_copy['empresa'].isna() & df_copy['nombre_empleador'].notna()\n",
        "num_cambios_empresa = cond_empresa.sum()\n",
        "\n",
        "if df_copy['empresa'].dtype.name == 'category':\n",
        "    # Obtener categorías únicas que no estén ya incluidas\n",
        "    nuevas_categorias = df_copy.loc[cond_empresa, 'nombre_empleador'].dropna().unique()\n",
        "    nuevas_categorias = [cat for cat in nuevas_categorias if cat not in df_copy['empresa'].cat.categories]\n",
        "    df_copy['empresa'] = df_copy['empresa'].cat.add_categories(nuevas_categorias)\n",
        "\n",
        "df_copy.loc[cond_empresa, 'empresa'] = df_copy.loc[cond_empresa, 'nombre_empleador']\n",
        "\n",
        "# ----------- EPS -----------\n",
        "\n",
        "cond_eps = df_copy['eps'].isna() & df_copy['EPS'].notna()\n",
        "num_cambios_eps = cond_eps.sum()\n",
        "\n",
        "if df_copy['eps'].dtype.name == 'category':\n",
        "    nuevas_categorias_eps = df_copy.loc[cond_eps, 'EPS'].dropna().unique()\n",
        "    nuevas_categorias_eps = [cat for cat in nuevas_categorias_eps if cat not in df_copy['eps'].cat.categories]\n",
        "    df_copy['eps'] = df_copy['eps'].cat.add_categories(nuevas_categorias_eps)\n",
        "\n",
        "df_copy.loc[cond_eps, 'eps'] = df_copy.loc[cond_eps, 'EPS']\n",
        "\n",
        "# ----------- RESULTADO -----------\n",
        "\n",
        "print(\"Cambios realizados:\")\n",
        "print(f\" - 'empresa' imputada con 'nombre_empleador': {num_cambios_empresa} registros.\")\n",
        "print(f\" - 'eps' imputada con 'EPS': {num_cambios_eps} registros.\")"
      ]
    },
    {
      "cell_type": "code",
      "execution_count": null,
      "metadata": {
        "id": "CKpUPnr6QyRz"
      },
      "outputs": [],
      "source": [
        "# Convertir de nuevo a category\n",
        "df_copy['empresa'] = df_copy['empresa'].astype('category')\n",
        "df_copy['eps'] = df_copy['eps'].astype('category')"
      ]
    },
    {
      "cell_type": "code",
      "execution_count": null,
      "metadata": {
        "id": "MZIJMrETRH7e"
      },
      "outputs": [],
      "source": [
        "df_unificado_total[['empresa', 'eps']] = df_copy[['empresa', 'eps']] # Aplicar los cambios"
      ]
    },
    {
      "cell_type": "code",
      "execution_count": null,
      "metadata": {
        "id": "PRCNexCQQz0b"
      },
      "outputs": [],
      "source": [
        "df_unificado_total.drop(['EPS', 'nombre_empleador'], axis=1, inplace=True)"
      ]
    },
    {
      "cell_type": "markdown",
      "metadata": {
        "id": "Vjua2y4AuoVG"
      },
      "source": [
        "#### Imputacion de categoricos 'desconocido'"
      ]
    },
    {
      "cell_type": "code",
      "execution_count": null,
      "metadata": {
        "id": "vZy4V9g7rvmY"
      },
      "outputs": [],
      "source": [
        "# Lista de columnas categóricas con nulos\n",
        "cat_cols_with_nulls = [\n",
        "    'operador_cel', 'tipo_afiliacion', 'tipo_plan_celular',\n",
        "    'eps', 'nivel_estudios', 'sector_ocupacion',\n",
        "    'tamano_empresa', 'empresa', 'horario_contacto'\n",
        "]\n",
        "\n",
        "for col in cat_cols_with_nulls:\n",
        "    df_unificado_total[col] = df_unificado_total[col].cat.add_categories('desconocido')\n",
        "    df_unificado_total[col] = df_unificado_total[col].fillna('desconocido')"
      ]
    },
    {
      "cell_type": "code",
      "execution_count": null,
      "metadata": {
        "colab": {
          "base_uri": "https://localhost:8080/"
        },
        "id": "A4BEN89auGub",
        "outputId": "617a1d22-7f4a-4d0c-d748-dc1ade819169"
      },
      "outputs": [],
      "source": [
        "df_unificado_total.info()"
      ]
    },
    {
      "cell_type": "markdown",
      "metadata": {
        "id": "ArhbpMvhsCjI"
      },
      "source": [
        "#### Enriquecimiento con datacredito"
      ]
    },
    {
      "cell_type": "code",
      "execution_count": null,
      "metadata": {
        "id": "FEMVhT-qfq0A"
      },
      "outputs": [],
      "source": [
        "# Copia de seguridad\n",
        "df_unificado_total['tiene_creditos_antes_de_solicitar_original'] = df_unificado_total['tiene_creditos_antes_de_solicitar']\n",
        "df_unificado_total['tiene_reporte_negativo_antes_de_solicitar_original'] = df_unificado_total['tiene_reporte_negativo_antes_de_solicitar']\n",
        "\n",
        "# Reemplazo basado en saldo_actual_sum (>0 → \"si\", ==0 → \"no\")\n",
        "cond_credito_valido = df_unificado_total['saldo_actual_sum'].notna()\n",
        "df_unificado_total.loc[cond_credito_valido, 'tiene_creditos_antes_de_solicitar'] = np.where(df_unificado_total.loc[cond_credito_valido, 'saldo_actual_sum'] > 0,\n",
        "    'si',\n",
        "    'no'\n",
        ")\n",
        "\n",
        "# Reemplazo basado en cuentas_castigadas (>0 → \"SI\", ==0 → \"NO\")\n",
        "cond_castigado_valido = df_unificado_total['cuentas_castigadas'].notna()\n",
        "df_unificado_total.loc[cond_castigado_valido, 'tiene_reporte_negativo_antes_de_solicitar'] = np.where(df_unificado_total.loc[cond_castigado_valido, 'cuentas_castigadas'] > 0,\n",
        "    'si',\n",
        "    'no'\n",
        ")"
      ]
    },
    {
      "cell_type": "code",
      "execution_count": null,
      "metadata": {
        "colab": {
          "base_uri": "https://localhost:8080/"
        },
        "id": "GDV0lJHFgUyQ",
        "outputId": "5f8d60c8-7913-4f14-a6e4-3449688102c1"
      },
      "outputs": [],
      "source": [
        "# Créditos modificados\n",
        "modificados_credito = (df_unificado_total['tiene_creditos_antes_de_solicitar'] != df_unificado_total['tiene_creditos_antes_de_solicitar_original']).sum()\n",
        "\n",
        "# Reportes negativos modificados\n",
        "modificados_reporte = (df_unificado_total['tiene_reporte_negativo_antes_de_solicitar'] != df_unificado_total['tiene_reporte_negativo_antes_de_solicitar_original']).sum()\n",
        "\n",
        "print(f'Créditos corregidos: {modificados_credito}')\n",
        "print(f'Reportes negativos corregidos: {modificados_reporte}')"
      ]
    },
    {
      "cell_type": "code",
      "execution_count": null,
      "metadata": {
        "id": "Ql6zlDfLguu9"
      },
      "outputs": [],
      "source": [
        "df_unificado_total.drop(['cuentas_castigadas', 'saldo_actual_sum', 'tiene_creditos_antes_de_solicitar_original', 'tiene_reporte_negativo_antes_de_solicitar_original'], axis=1, inplace=True)"
      ]
    },
    {
      "cell_type": "markdown",
      "metadata": {
        "id": "z-6B9bgcsJHN"
      },
      "source": [
        "#### Enriquecimiento con asofondos y mareigua"
      ]
    },
    {
      "cell_type": "code",
      "execution_count": null,
      "metadata": {
        "id": "Lmkf_JjdsOV1"
      },
      "outputs": [],
      "source": [
        "# Definir ocupaciones válidas para la imputación\n",
        "ocupaciones_validas = ['empleado/a termino indefinido', 'empleado/a termino fijo renovable']\n",
        "\n",
        "# Antigüedad: imputar donde falta y se cumple la condición\n",
        "cond_antiguedad = (\n",
        "    df_unificado_total['antiguedad_ocupacion'].isna() &\n",
        "    df_unificado_total['meses_continuos'].notna() &\n",
        "    df_unificado_total['ocupacion'].isin(ocupaciones_validas)\n",
        ")\n",
        "\n",
        "df_unificado_total.loc[cond_antiguedad, 'antiguedad_ocupacion'] = (\n",
        "    df_unificado_total.loc[cond_antiguedad, 'meses_continuos'] / 12\n",
        ")\n",
        "\n",
        "# Ingresos: imputar donde falta y se cumple la condición\n",
        "cond_ingresos = (\n",
        "    df_unificado_total['suma_ingresos'].isna() &\n",
        "    df_unificado_total['ingresos'].notna() #&\n",
        "   #df_unificado_total['ocupacion'].isin(ocupaciones_validas)\n",
        ")\n",
        "\n",
        "df_unificado_total.loc[cond_ingresos, 'suma_ingresos'] = df_unificado_total.loc[cond_ingresos, 'ingresos']"
      ]
    },
    {
      "cell_type": "code",
      "execution_count": null,
      "metadata": {
        "colab": {
          "base_uri": "https://localhost:8080/"
        },
        "id": "IMB95he-sagD",
        "outputId": "f4df0d36-dc56-4e9e-f533-eff4cd2b698e"
      },
      "outputs": [],
      "source": [
        "print(\"Antigüedad ocupación imputada:\", cond_antiguedad.sum())\n",
        "print(\"Suma ingresos imputada:\", cond_ingresos.sum())"
      ]
    },
    {
      "cell_type": "code",
      "execution_count": null,
      "metadata": {
        "colab": {
          "base_uri": "https://localhost:8080/"
        },
        "id": "Q2TxxMCcXJA9",
        "outputId": "b697ff5e-65d1-40b4-c444-37494521dbb4"
      },
      "outputs": [],
      "source": [
        "# Asegurar que las columnas sean numéricas\n",
        "df_unificado_total['ingresos'] = pd.to_numeric(df_unificado_total['ingresos'], errors='coerce')\n",
        "df_unificado_total['suma_ingresos'] = pd.to_numeric(df_unificado_total['suma_ingresos'], errors='coerce')\n",
        "\n",
        "# Calcular diferencia\n",
        "df_unificado_total['diferencia'] = df_unificado_total['suma_ingresos'] - df_unificado_total['ingresos']\n",
        "\n",
        "# Ocupaciones válidas\n",
        "ocupaciones_validas = ['empleado/a termino indefinido', 'empleado/a termino fijo renovable']\n",
        "\n",
        "# Asegurar que ocupacion sea string para comparar bien\n",
        "df_unificado_total['ocupacion'] = df_unificado_total['ocupacion'].astype(str)\n",
        "\n",
        "# Condición robusta\n",
        "cond = (\n",
        "    df_unificado_total['ingresos'].notna() &\n",
        "    df_unificado_total['suma_ingresos'].notna() &\n",
        "    (df_unificado_total['suma_ingresos'] > df_unificado_total['ingresos'] * 1.5) &\n",
        "    df_unificado_total['ocupacion'].isin(ocupaciones_validas)\n",
        ")\n",
        "\n",
        "# Candidatos\n",
        "candidatos = df_unificado_total.loc[cond, ['suma_ingresos', 'ingresos', 'ocupacion', 'diferencia']]\n",
        "candidatos = candidatos.sort_values('diferencia', ascending=False)\n",
        "\n",
        "# Mostrar el registro más extremo\n",
        "registro_max = candidatos.head(5)\n",
        "print(\" Registro con mayor exceso de suma_ingresos vs ingresos:\")\n",
        "print(registro_max)"
      ]
    },
    {
      "cell_type": "code",
      "execution_count": null,
      "metadata": {
        "colab": {
          "base_uri": "https://localhost:8080/"
        },
        "id": "kisPjLO9XthW",
        "outputId": "760ae716-b380-40ee-95b1-333d9f512c98"
      },
      "outputs": [],
      "source": [
        "# Eliminarlo del DataFrame principal\n",
        "indice_a_eliminar = registro_max.index[0]\n",
        "df_unificado_total = df_unificado_total.drop(index=indice_a_eliminar)\n",
        "print(f\"\\n Registro eliminado: índice {indice_a_eliminar}\")"
      ]
    },
    {
      "cell_type": "code",
      "execution_count": null,
      "metadata": {
        "id": "nxEOBaRruL9R"
      },
      "outputs": [],
      "source": [
        "df_unificado_total.drop(['meses_continuos', 'ingresos','diferencia'], axis=1, inplace=True)"
      ]
    },
    {
      "cell_type": "code",
      "execution_count": null,
      "metadata": {
        "colab": {
          "base_uri": "https://localhost:8080/"
        },
        "id": "KztnHjmSggyX",
        "outputId": "d1f696a2-606a-4041-8b44-9d16e105e6d8"
      },
      "outputs": [],
      "source": [
        "df_unificado_total.info()"
      ]
    },
    {
      "cell_type": "markdown",
      "metadata": {
        "id": "a58sIdk9uefm"
      },
      "source": [
        "#### Imputacion de numericos faltantes con knn vecinos"
      ]
    },
    {
      "cell_type": "code",
      "execution_count": null,
      "metadata": {
        "id": "V8Oy4t5macMP"
      },
      "outputs": [],
      "source": [
        "# Columnas numéricas a escalar e imputar\n",
        "columnas_knn = ['suma_ingresos', 'antiguedad_ocupacion']\n",
        "\n",
        "# Extraer las columnas (pueden tener NaNs)\n",
        "df_knn = df_unificado_total[columnas_knn]\n",
        "\n",
        "# Escalar los datos (fit_transform devuelve un array NumPy sin índice)\n",
        "scaler = StandardScaler()\n",
        "df_knn_scaled = scaler.fit_transform(df_knn)\n",
        "\n",
        "# Imputar con KNN (también devuelve un array NumPy)\n",
        "imputer = KNNImputer(n_neighbors=3)\n",
        "df_knn_imputed_scaled = imputer.fit_transform(df_knn_scaled)  # Imputa en escala estandarizada\n",
        "\n",
        "# Invertir el escalado para regresar a escala original\n",
        "df_knn_imputed = scaler.inverse_transform(df_knn_imputed_scaled)\n",
        "\n",
        "# Convertir a DataFrame **preservando el índice original**\n",
        "df_knn_imputed = pd.DataFrame(df_knn_imputed, columns=columnas_knn, index=df_knn.index)\n",
        "\n",
        "# Asignar las columnas imputadas de vuelta al DataFrame original, usando .loc para preservar índices\n",
        "df_unificado_total.loc[:, columnas_knn] = df_knn_imputed"
      ]
    },
    {
      "cell_type": "code",
      "execution_count": null,
      "metadata": {
        "colab": {
          "base_uri": "https://localhost:8080/"
        },
        "id": "DUcNCKb_YvUt",
        "outputId": "6f35c9ab-6b12-4309-bfa4-d73dc13ada9c"
      },
      "outputs": [],
      "source": [
        "df_unificado_total.info()"
      ]
    },
    {
      "cell_type": "code",
      "execution_count": null,
      "metadata": {
        "id": "8LPG5-ZEjDF7"
      },
      "outputs": [],
      "source": [
        "# Variables objet a category\n",
        "df_unificado_total['ocupacion'] = df_unificado_total['ocupacion'].astype('category')"
      ]
    },
    {
      "cell_type": "code",
      "execution_count": null,
      "metadata": {
        "id": "m-Pw1AOUkX5g"
      },
      "outputs": [],
      "source": [
        "# Cambios de variables numericas\n",
        "df_unificado_total['valor_credito'] = df_unificado_total['valor_credito'].astype('int32')\n",
        "df_unificado_total['plazo_solicitado'] = df_unificado_total['plazo_solicitado'].astype('int8')\n",
        "df_unificado_total['estado_general'] = df_unificado_total['estado_general'].astype('int8')\n",
        "df_unificado_total['suma_ingresos'] = df_unificado_total['suma_ingresos'].astype('int32')\n",
        "df_unificado_total['estrato'] = df_unificado_total['estrato'].astype('int8')\n",
        "df_unificado_total['antiguedad_ocupacion'] = df_unificado_total['antiguedad_ocupacion'].astype('float32')"
      ]
    },
    {
      "cell_type": "markdown",
      "metadata": {
        "id": "dVm1gF-8ljCA"
      },
      "source": [
        "## Codificación de variables categoricas"
      ]
    },
    {
      "cell_type": "markdown",
      "metadata": {
        "id": "bv5Xtr0kCVqR"
      },
      "source": [
        "### Codificación de variables binarias"
      ]
    },
    {
      "cell_type": "code",
      "execution_count": null,
      "metadata": {
        "id": "6CLg2PSxCArJ"
      },
      "outputs": [],
      "source": [
        "# Columnas con valores binarios tipo \"sí\"/\"no\"\n",
        "columnas_binarias = [\n",
        "    'cotiza_seguridad',\n",
        "    'tiene_reporte_negativo_antes_de_solicitar',\n",
        "    'tiene_creditos_antes_de_solicitar'\n",
        "]\n",
        "\n",
        "# Mapear \"sí\" -> 1, \"no\" -> 0 (ignora mayúsculas si es necesario)\n",
        "df_unificado_total[columnas_binarias] = df_unificado_total[columnas_binarias].apply(\n",
        "    lambda col: col.str.lower().map({ 'si': 1, 'no': 0})\n",
        ")"
      ]
    },
    {
      "cell_type": "markdown",
      "metadata": {
        "id": "wTXGYRtbogIg"
      },
      "source": [
        "### Codificacion de variables ordinales"
      ]
    },
    {
      "cell_type": "code",
      "execution_count": null,
      "metadata": {
        "colab": {
          "base_uri": "https://localhost:8080/"
        },
        "id": "6gSnyFcGon8w",
        "outputId": "23b6d29b-bc81-4582-9a71-88fbe0c1455a"
      },
      "outputs": [],
      "source": [
        "# Verificacion de valores unicos\n",
        "columnas_a_verificar = ['periocidad_pago', 'nivel_estudios', 'tamano_empresa']\n",
        "\n",
        "for col in columnas_a_verificar:\n",
        "    print(f\"Valores únicos en '{col}':\")\n",
        "    print(df_unificado_total[col].unique())\n",
        "    print(\"-\" * 50)"
      ]
    },
    {
      "cell_type": "code",
      "execution_count": null,
      "metadata": {
        "colab": {
          "base_uri": "https://localhost:8080/"
        },
        "id": "10CQfRpmpBSW",
        "outputId": "1973becf-4ba9-4d62-f478-097b36542ccb"
      },
      "outputs": [],
      "source": [
        "# Contar los valores 'desconocido' en cada columna\n",
        "print(df_unificado_total['nivel_estudios'].value_counts().get('desconocido', 0))\n",
        "print(df_unificado_total['tamano_empresa'].value_counts().get('desconocido', 0))"
      ]
    },
    {
      "cell_type": "code",
      "execution_count": null,
      "metadata": {
        "id": "cCiJCRK1su9w"
      },
      "outputs": [],
      "source": [
        "#-----------------Empresa---------------------\n",
        "# Copiar la columna\n",
        "df_empresas = df_unificado_total[['empresa']].copy()\n",
        "\n",
        "# Normalización\n",
        "def normalizar_empresa(nombre):\n",
        "    if pd.isnull(nombre):\n",
        "        return \"desconocido\"\n",
        "\n",
        "    nombre = str(nombre).lower()\n",
        "    nombre = unidecode(nombre)  # quitar tildes\n",
        "    nombre = re.sub(r'[^\\w\\s]', '', nombre)  # eliminar puntuación\n",
        "    nombre = re.sub(r'\\s+', ' ', nombre).strip()  # espacios dobles\n",
        "    # Eliminar palabras comunes que no aportan valor\n",
        "    comunes = ['sa', 'sas', 'ltda', 'sucursal', 'empresa', 'de', 'los', 'las', 'y', 'cia', 'ltda', 'the', 's.a.s', 's.a']\n",
        "    palabras = nombre.split()\n",
        "    palabras = [p for p in palabras if p not in comunes]\n",
        "    return ' '.join(palabras)\n",
        "\n",
        "# Aplicar la función\n",
        "df_empresas['empresa_normalizada'] = df_empresas['empresa'].apply(normalizar_empresa)\n",
        "\n",
        "# Agrupación por frecuencia\n",
        "frecuentes = df_empresas['empresa_normalizada'].value_counts().nlargest(100).index\n",
        "df_empresas['empresa_reducida'] = df_empresas['empresa_normalizada'].apply(\n",
        "    lambda x: x if x in frecuentes else 'otros'\n",
        ")"
      ]
    },
    {
      "cell_type": "code",
      "execution_count": null,
      "metadata": {
        "colab": {
          "base_uri": "https://localhost:8080/"
        },
        "id": "wn6sJwhgtmpX",
        "outputId": "3b9f894e-2545-47e4-d111-606135772d39"
      },
      "outputs": [],
      "source": [
        "frecuentes"
      ]
    },
    {
      "cell_type": "code",
      "execution_count": null,
      "metadata": {
        "id": "iO4oFipCuD86"
      },
      "outputs": [],
      "source": [
        "# Agregar al dataset original\n",
        "df_unificado_total['empresa_reducida'] = df_empresas['empresa_reducida']"
      ]
    },
    {
      "cell_type": "code",
      "execution_count": null,
      "metadata": {
        "id": "eg1MKXVr3zUK"
      },
      "outputs": [],
      "source": [
        "# Hacer empresa = empresa_reducida\n",
        "df_unificado_total['empresa'] = df_unificado_total['empresa_reducida']"
      ]
    },
    {
      "cell_type": "code",
      "execution_count": null,
      "metadata": {
        "id": "RLg5rb3Z3Xrb"
      },
      "outputs": [],
      "source": []
    },
    {
      "cell_type": "code",
      "execution_count": null,
      "metadata": {
        "id": "myaH0QBqu92f"
      },
      "outputs": [],
      "source": [
        "#-----------------Tamaño Empresa-------------------------------\n",
        "# Obtener la moda del tamaño de empresa por cada empresa_reducida\n",
        "modas_por_empresa = (\n",
        "    df_unificado_total[df_unificado_total['tamano_empresa'] != 'desconocido']\n",
        "    .groupby('empresa_reducida')['tamano_empresa']\n",
        "    .agg(lambda x: x.mode().iloc[0])  # usamos la moda más frecuente\n",
        ")\n",
        "\n",
        "# Crear una función para imputar\n",
        "def imputar_tamano_empresa(row):\n",
        "    if row['tamano_empresa'] != 'desconocido':\n",
        "        return row['tamano_empresa']\n",
        "    empresa = row['empresa_reducida']\n",
        "    return modas_por_empresa.get(empresa, 'desconocido')  # si no hay moda, se queda como 'desconocido'\n",
        "\n",
        "# Aplicar la función fila por fila\n",
        "df_unificado_total['tamano_empresa_imputado'] = df_unificado_total.apply(imputar_tamano_empresa, axis=1)"
      ]
    },
    {
      "cell_type": "code",
      "execution_count": null,
      "metadata": {
        "id": "LrmPhnhfbgEO"
      },
      "outputs": [],
      "source": [
        "# Eliminar empresa reducida\n",
        "df_unificado_total.drop(['empresa_reducida'], axis=1, inplace=True)"
      ]
    },
    {
      "cell_type": "code",
      "execution_count": null,
      "metadata": {
        "colab": {
          "base_uri": "https://localhost:8080/",
          "height": 304
        },
        "id": "MO9J9si9vGw2",
        "outputId": "657ad900-c7bb-447d-8aa3-7d430a93eb7c"
      },
      "outputs": [],
      "source": [
        "df_unificado_total['tamano_empresa_imputado'].value_counts()"
      ]
    },
    {
      "cell_type": "code",
      "execution_count": null,
      "metadata": {
        "id": "9Pcj1l7BvmYJ"
      },
      "outputs": [],
      "source": [
        "df_unificado_total['tamano_empresa'] = df_unificado_total['tamano_empresa_imputado']\n",
        "df_unificado_total.drop(['tamano_empresa_imputado'], axis=1, inplace=True)"
      ]
    },
    {
      "cell_type": "code",
      "execution_count": null,
      "metadata": {
        "id": "nGARlPuawUp_"
      },
      "outputs": [],
      "source": [
        "#----------Nivel de estudios-----------\n",
        "# Calcular la moda (valor más común)\n",
        "moda_estudios = df_unificado_total.loc[\n",
        "    df_unificado_total['nivel_estudios'] != 'desconocido', 'nivel_estudios'\n",
        "].mode().iloc[0]\n",
        "\n",
        "# Reemplazar 'desconocido' con la moda\n",
        "df_unificado_total['nivel_estudios'] = df_unificado_total['nivel_estudios'].replace('desconocido', moda_estudios)"
      ]
    },
    {
      "cell_type": "code",
      "execution_count": null,
      "metadata": {
        "id": "kvkd2izCxJ_y"
      },
      "outputs": [],
      "source": [
        "#---------------Mapeo de variables ordinales---------------------\n",
        "# Diccionarios de mapeo ordinal\n",
        "map_periocidad_pago = {\n",
        "    'semanal': 0,\n",
        "    'quincenal': 1,\n",
        "    'mensual': 2\n",
        "}\n",
        "\n",
        "map_nivel_estudios = {\n",
        "    'primaria': 0,\n",
        "    'secundaria': 1,\n",
        "    'tecnico / tecnologo': 2,\n",
        "    'universitario': 3,\n",
        "    'posgrado': 4\n",
        "}\n",
        "\n",
        "map_tamano_empresa = {\n",
        "    'de 1 a 10': 0,\n",
        "    'de 11 a 25': 1,\n",
        "    'de 26 a 50': 2,\n",
        "    'de 51 a 100': 3,\n",
        "    'de 100 a 500': 4,\n",
        "    'mas de 500': 5\n",
        "}\n",
        "\n",
        "# Aplicar los mapeos\n",
        "df_unificado_total['periocidad_pago'] = df_unificado_total['periocidad_pago'].map(map_periocidad_pago)\n",
        "df_unificado_total['nivel_estudios'] = df_unificado_total['nivel_estudios'].map(map_nivel_estudios)\n",
        "df_unificado_total['tamano_empresa'] = df_unificado_total['tamano_empresa'].map(map_tamano_empresa)"
      ]
    },
    {
      "cell_type": "code",
      "execution_count": null,
      "metadata": {
        "id": "kXkhu4MBI21u"
      },
      "outputs": [],
      "source": [
        "# Cambios de tipo de datos de variables ordinales\n",
        "df_unificado_total['periocidad_pago'] = df_unificado_total['periocidad_pago'].astype('int8')\n",
        "df_unificado_total['nivel_estudios'] = df_unificado_total['nivel_estudios'].astype('int8')\n",
        "df_unificado_total['tamano_empresa'] = df_unificado_total['tamano_empresa'].astype('int8')"
      ]
    },
    {
      "cell_type": "markdown",
      "metadata": {
        "id": "H3MB81prylnA"
      },
      "source": [
        "### Codificación one hot directa"
      ]
    },
    {
      "cell_type": "code",
      "execution_count": null,
      "metadata": {
        "id": "z5oE9Vb5z-hg"
      },
      "outputs": [],
      "source": [
        "# Diccionario para renombrar las categorías de estado_civil\n",
        "mapeo_estado_civil = {\n",
        "    'soltera/o': 'soltero',\n",
        "    'casada/o': 'casado',\n",
        "    'divorciada/o': 'divorciado',\n",
        "    'viuda/o': 'viudo',\n",
        "    'union libre': 'union libre'  # Esta categoría no cambia\n",
        "}\n",
        "\n",
        "# Reemplazar las categorías en la columna estado_civil\n",
        "df_unificado_total['estado_civil'] = df_unificado_total['estado_civil'].replace(mapeo_estado_civil)"
      ]
    },
    {
      "cell_type": "code",
      "execution_count": null,
      "metadata": {
        "id": "5T1INOg8ylT3"
      },
      "outputs": [],
      "source": [
        "# Lista de columnas categóricas a codificar\n",
        "columnas_onehot = ['tipo_pago', 'tipo_afiliacion', 'tipo_plan_celular', 'estado_civil']\n",
        "\n",
        "# Realizar codificación one-hot\n",
        "df_encoded = pd.get_dummies(df_unificado_total, columns=columnas_onehot)"
      ]
    },
    {
      "cell_type": "code",
      "execution_count": null,
      "metadata": {
        "id": "fQUV_NnGzzya"
      },
      "outputs": [],
      "source": [
        "# Actualizar el DataFrame original con las nuevas columnas codificadas\n",
        "df_unificado_total = df_encoded.copy()"
      ]
    },
    {
      "cell_type": "markdown",
      "metadata": {
        "id": "zMKWTfi44WPA"
      },
      "source": [
        "### Codificaciones de variables que requieren reduccion de categorias"
      ]
    },
    {
      "cell_type": "code",
      "execution_count": null,
      "metadata": {
        "colab": {
          "base_uri": "https://localhost:8080/",
          "height": 398
        },
        "id": "KS35jlav4S0P",
        "outputId": "28d78ec6-19b0-4814-bfe8-9aca5a1b7447"
      },
      "outputs": [],
      "source": [
        "#----------Ocupacion------------------\n",
        "df_unificado_total['ocupacion'].value_counts(normalize=True) * 100 #valores unicos de ocupacion y su porcentaje"
      ]
    },
    {
      "cell_type": "code",
      "execution_count": null,
      "metadata": {
        "id": "CJt6mJFS6GgR"
      },
      "outputs": [],
      "source": [
        "# Diccionario para mapear las categorías de ocupacion a las nuevas categorías\n",
        "mapeo_ocupacion = {\n",
        "    'empleado/a termino indefinido': 'empleado_estable',\n",
        "    'empleado/a termino fijo renovable': 'empleado_estable',\n",
        "    'independiente': 'independiente',\n",
        "    'empleado/a por servicios': 'empleado_no_estable',\n",
        "    'empleado/a temporal': 'empleado_no_estable',\n",
        "    'pensionado/a': 'pensionado',\n",
        "    'estudiante': 'otros',\n",
        "    'empleado/a medio tiempo': 'otros',\n",
        "    'desempleado/a': 'otros'\n",
        "}\n",
        "\n",
        "# Reemplazar las categorías en la columna ocupacion\n",
        "df_unificado_total['ocupacion'] = df_unificado_total['ocupacion'].replace(mapeo_ocupacion)\n",
        "\n",
        "# Realizar codificación one-hot\n",
        "df_encoded_ = pd.get_dummies(df_unificado_total, columns=['ocupacion'])"
      ]
    },
    {
      "cell_type": "code",
      "execution_count": null,
      "metadata": {
        "id": "1dcD_D9I63zo"
      },
      "outputs": [],
      "source": [
        "# Actualizar el DataFrame original\n",
        "df_unificado_total = df_encoded_.copy()"
      ]
    },
    {
      "cell_type": "code",
      "execution_count": null,
      "metadata": {
        "colab": {
          "base_uri": "https://localhost:8080/",
          "height": 635
        },
        "id": "UPbrQZyF9YYh",
        "outputId": "2f8835f1-8ba2-4e5c-bbfb-5c14678801b1"
      },
      "outputs": [],
      "source": [
        "df_unificado_total"
      ]
    },
    {
      "cell_type": "code",
      "execution_count": null,
      "metadata": {
        "colab": {
          "base_uri": "https://localhost:8080/",
          "height": 490
        },
        "id": "WAO7uMnC9vvK",
        "outputId": "6edc45fe-9250-4dac-f6ff-5ec2f3734fdd"
      },
      "outputs": [],
      "source": [
        "#----------horario_contacto------------------\n",
        "df_unificado_total['horario_contacto'].value_counts(normalize=True) * 100 #valores unicos y su cantidad"
      ]
    },
    {
      "cell_type": "code",
      "execution_count": null,
      "metadata": {
        "id": "_hIYUsyh-P1A"
      },
      "outputs": [],
      "source": [
        "def resumir_horario_contacto(horario):\n",
        "    if pd.isna(horario) or str(horario).strip() == 'desconocido':\n",
        "        return 'desconocido'\n",
        "\n",
        "    horario = str(horario).lower().strip()\n",
        "\n",
        "    # Flexible / todo el día\n",
        "    if any(p in horario for p in ['todo el día', 'todo el dia', 'cualquier', 'a cualquier hora', '24 horas', 'disponible']):\n",
        "        return 'flexible'\n",
        "\n",
        "    # Mañana\n",
        "    if any(p in horario for p in ['mañana', 'manana', 'en la mañana', 'en la manana']):\n",
        "        return 'manana'\n",
        "    if re.search(r'\\b(7|8|9|10|11)([:h]?)(\\s?am)?\\b', horario):\n",
        "        return 'manana'\n",
        "\n",
        "    # Tarde\n",
        "    if any(p in horario for p in ['tarde', 'en la tarde']):\n",
        "        return 'tarde'\n",
        "    if re.search(r'\\b(12|13|14|15|16|17|18|19)([:h]?)(\\s?pm)?\\b', horario):\n",
        "        return 'tarde'\n",
        "\n",
        "    # Horarios tipo \"8 a 5\", \"8 AM - 5 PM\"\n",
        "    if re.search(r'8\\s*(a|-)\\s*5', horario):\n",
        "        return 'horario_laboral'\n",
        "\n",
        "    return 'otro'"
      ]
    },
    {
      "cell_type": "code",
      "execution_count": null,
      "metadata": {
        "colab": {
          "base_uri": "https://localhost:8080/",
          "height": 304
        },
        "id": "OvkN4r39-V1a",
        "outputId": "95949f56-3ada-4dde-c86a-54c686ffc746"
      },
      "outputs": [],
      "source": [
        "df_unificado_total['horario_contacto'] = df_unificado_total['horario_contacto'].apply(resumir_horario_contacto)\n",
        "df_unificado_total['horario_contacto'].value_counts(normalize=True) * 100"
      ]
    },
    {
      "cell_type": "code",
      "execution_count": null,
      "metadata": {
        "id": "DA3pdDNL_ZrS"
      },
      "outputs": [],
      "source": [
        "# Realizar codificación one-hot\n",
        "df_unificado_total = pd.get_dummies(df_unificado_total, columns=['horario_contacto'])"
      ]
    },
    {
      "cell_type": "code",
      "execution_count": null,
      "metadata": {
        "colab": {
          "base_uri": "https://localhost:8080/",
          "height": 348
        },
        "id": "XCETgb65_rlp",
        "outputId": "59d3284b-3a59-4585-e392-8063d0b3400a"
      },
      "outputs": [],
      "source": [
        "df_unificado_total.head()"
      ]
    },
    {
      "cell_type": "code",
      "execution_count": null,
      "metadata": {
        "colab": {
          "base_uri": "https://localhost:8080/",
          "height": 1000
        },
        "id": "JOyoBVbJASbC",
        "outputId": "4a588fe2-6023-4cae-c123-b31e10f08447"
      },
      "outputs": [],
      "source": [
        "#----------fuente_origen_visita------------------\n",
        "df_unificado_total['fuente_origen_visita'].value_counts(normalize=True) * 100 #valores unicos y su porcentaje"
      ]
    },
    {
      "cell_type": "code",
      "execution_count": null,
      "metadata": {
        "colab": {
          "base_uri": "https://localhost:8080/",
          "height": 492
        },
        "id": "soseK5CJAkFc",
        "outputId": "dac01b1a-9e8c-46db-b881-7a025cee9cce"
      },
      "outputs": [],
      "source": [
        "# agrupamiento.\n",
        "agrupaciones_fov = {\n",
        "    'datacredito_oferta_1': 'datacredito',\n",
        "    'datacredito_oferta_2': 'datacredito',\n",
        "    'datacredito_oferta_3': 'datacredito',\n",
        "    'facebook1': 'facebook',\n",
        "    'facebook2': 'facebook',\n",
        "    'facebook_campain': 'facebook',\n",
        "    'instagram_campain': 'instagram',\n",
        "    'adwords1': 'adwords',\n",
        "    'sms1': 'sms',\n",
        "    'sms2': 'sms',\n",
        "    'sms3': 'sms',\n",
        "    'sms4': 'sms',\n",
        "    'sms6': 'sms',\n",
        "    'sms7': 'sms',\n",
        "    'sms9': 'sms',\n",
        "    'noticiadocampo.com':'otros',\n",
        "    'referido':'otros',\n",
        "    'rd station':'otros',\n",
        "    'servy leads':'otros',\n",
        "    'leads_global':'otros',\n",
        "    'techkiro.com':'otros',\n",
        "    'tarjetaahora.com':'otros',\n",
        "    'affinity':'otros',\n",
        "    'sms':'otros'\n",
        "}\n",
        "\n",
        "df_unificado_total['fuente_origen_visita'] = df_unificado_total['fuente_origen_visita'].replace(agrupaciones_fov)\n",
        "df_unificado_total['fuente_origen_visita'].value_counts(normalize=True) * 100"
      ]
    },
    {
      "cell_type": "code",
      "execution_count": null,
      "metadata": {
        "id": "vfbnzhbVBtuQ"
      },
      "outputs": [],
      "source": [
        "# Realizar codificación one-hot\n",
        "df_unificado_total = pd.get_dummies(df_unificado_total, columns=['fuente_origen_visita'])"
      ]
    },
    {
      "cell_type": "code",
      "execution_count": null,
      "metadata": {
        "colab": {
          "base_uri": "https://localhost:8080/",
          "height": 429
        },
        "id": "gF7vmxKwCuoL",
        "outputId": "6322ff3b-9495-4f2c-bfbe-962650046343"
      },
      "outputs": [],
      "source": [
        "#----------operador_cel------------------\n",
        "df_unificado_total['operador_cel'].value_counts(normalize=True) * 100 #valores unicos y su cantidad"
      ]
    },
    {
      "cell_type": "code",
      "execution_count": null,
      "metadata": {
        "id": "_43iyGSf5Zuw"
      },
      "outputs": [],
      "source": [
        "# agrupamiento.\n",
        "agrupaciones_movil = {\n",
        "    'virgin mobile': 'otro',\n",
        "    'avantel': 'otro',\n",
        "    'etb': 'otro',\n",
        "    'movil exito': 'otro',\n",
        "    'uff movil': 'otro',\n",
        "    'desconocido': 'otro'\n",
        "}\n",
        "\n",
        "df_unificado_total['operador_cel'] = df_unificado_total['operador_cel'].replace(agrupaciones_movil)"
      ]
    },
    {
      "cell_type": "code",
      "execution_count": null,
      "metadata": {
        "id": "VmAdYVwG6VU0"
      },
      "outputs": [],
      "source": [
        "# Realizar codificación one-hot\n",
        "df_unificado_total = pd.get_dummies(df_unificado_total, columns=['operador_cel'])"
      ]
    },
    {
      "cell_type": "code",
      "execution_count": null,
      "metadata": {
        "colab": {
          "base_uri": "https://localhost:8080/",
          "height": 555
        },
        "id": "szkb_Qcg62SG",
        "outputId": "f50d8894-21a0-4f8f-ffb3-60e7ab4f1691"
      },
      "outputs": [],
      "source": [
        "#----------sector_ocupacion------------------\n",
        "df_unificado_total['sector_ocupacion'].value_counts(normalize=True) * 100 #valores unicos y su porcentaje"
      ]
    },
    {
      "cell_type": "code",
      "execution_count": null,
      "metadata": {
        "id": "owVZ2is18FiA"
      },
      "outputs": [],
      "source": [
        "mapeo_sector_ocupacion = {\n",
        "    'comercio': 'servicios',\n",
        "    'servicios': 'servicios',\n",
        "    'financiero': 'servicios',\n",
        "    'industria y manufactura': 'industria',\n",
        "    'construccion': 'industria',\n",
        "    'salud': 'salud_educacion',\n",
        "    'educacion': 'salud_educacion',\n",
        "    'entidades del estado': 'sector_publico',\n",
        "    'servicios publicos': 'sector_publico',\n",
        "    'tecnologia': 'servicios',\n",
        "    'otros': 'otros',\n",
        "    'transporte': 'otros',\n",
        "    'agropecuario': 'otros',\n",
        "    'desconocido': 'otros'\n",
        "}\n",
        "df_unificado_total['sector_ocupacion'] = df_unificado_total['sector_ocupacion'].replace(mapeo_sector_ocupacion)"
      ]
    },
    {
      "cell_type": "code",
      "execution_count": null,
      "metadata": {
        "id": "rHztGfL_9Gt5"
      },
      "outputs": [],
      "source": [
        "# Realizar codificación one-hot\n",
        "df_unificado_total = pd.get_dummies(df_unificado_total, columns=['sector_ocupacion'])"
      ]
    },
    {
      "cell_type": "code",
      "execution_count": null,
      "metadata": {
        "id": "MwTy0SXI9gPg"
      },
      "outputs": [],
      "source": [
        "#----Eliminar 'ciudad_cedula'----------------\n",
        "df_unificado_total.drop(['ciudad_cedula'], axis=1, inplace=True)"
      ]
    },
    {
      "cell_type": "code",
      "execution_count": null,
      "metadata": {
        "colab": {
          "base_uri": "https://localhost:8080/",
          "height": 743
        },
        "id": "TCJD7pkz_t6Y",
        "outputId": "39422ebb-7a56-4def-bb36-ec956c15fa0f"
      },
      "outputs": [],
      "source": [
        "#----------ciudad------------------\n",
        "df_unificado_total['ciudad'].value_counts(normalize=True).head(20) * 100 #valores unicos y su porcentaje"
      ]
    },
    {
      "cell_type": "code",
      "execution_count": null,
      "metadata": {
        "id": "XmHwcSm0BRlx"
      },
      "outputs": [],
      "source": [
        "# Extraer solo la parte izquierda del guion en la columna 'ciudad'\n",
        "df_unificado_total['ciudad_reducida'] = df_unificado_total['ciudad'].str.split(' - ').str[0]\n",
        "\n",
        "# Definir umbral para mantener ciudades (por ejemplo, 1%)\n",
        "umbral = 1.9\n",
        "\n",
        "# Calcular porcentajes de frecuencia\n",
        "porcentajes_ciudades = df_unificado_total['ciudad_reducida'].value_counts(normalize=True) * 100\n",
        "\n",
        "# Identificar ciudades con frecuencia >= umbral\n",
        "ciudades_mantener = porcentajes_ciudades[porcentajes_ciudades >= umbral].index\n",
        "\n",
        "# Reemplazar ciudades con frecuencia < umbral por 'otras'\n",
        "df_unificado_total['ciudad_reducida'] = df_unificado_total['ciudad_reducida'].where(\n",
        "    df_unificado_total['ciudad_reducida'].isin(ciudades_mantener), 'otras'\n",
        ")"
      ]
    },
    {
      "cell_type": "code",
      "execution_count": null,
      "metadata": {
        "id": "7q1GcIUzCOI_"
      },
      "outputs": [],
      "source": [
        "df_unificado_total['ciudad'] = df_unificado_total['ciudad_reducida']\n",
        "df_unificado_total.drop(['ciudad_reducida'], axis=1, inplace=True)"
      ]
    },
    {
      "cell_type": "code",
      "execution_count": null,
      "metadata": {
        "id": "JRfSxi9DCaQI"
      },
      "outputs": [],
      "source": [
        "# Realizar codificación one-hot\n",
        "df_unificado_total = pd.get_dummies(df_unificado_total, columns=['ciudad'])"
      ]
    },
    {
      "cell_type": "code",
      "execution_count": null,
      "metadata": {
        "colab": {
          "base_uri": "https://localhost:8080/",
          "height": 743
        },
        "id": "TrOS5BWKCsrS",
        "outputId": "89f2c49a-99da-409d-e261-004c4265bb7f"
      },
      "outputs": [],
      "source": [
        "#----------eps------------------\n",
        "df_unificado_total['eps'].value_counts(normalize=True).head(20) * 100 #valores unicos y su porcentaje"
      ]
    },
    {
      "cell_type": "code",
      "execution_count": null,
      "metadata": {
        "id": "uWShq_DJC_EG"
      },
      "outputs": [],
      "source": [
        "# Definir umbral para mantener categorías de eps (5%)\n",
        "umbral_eps = 5\n",
        "\n",
        "# Calcular porcentajes de frecuencia para eps\n",
        "porcentajes_eps = df_unificado_total['eps'].value_counts(normalize=True) * 100\n",
        "\n",
        "# Identificar categorías de eps con frecuencia >= umbral\n",
        "eps_mantener = porcentajes_eps[porcentajes_eps >= umbral_eps].index\n",
        "\n",
        "# Si eps es una columna categórica, añadir 'otras' a las categorías si no existe\n",
        "if df_unificado_total['eps'].dtype.name == 'category':\n",
        "    if 'otras' not in df_unificado_total['eps'].cat.categories:\n",
        "        df_unificado_total['eps'] = df_unificado_total['eps'].cat.add_categories(['otras'])\n",
        "\n",
        "# Crear una nueva columna eps_reducida para evitar modificar eps directamente\n",
        "df_unificado_total['eps_reducida'] = df_unificado_total['eps'].where(\n",
        "    df_unificado_total['eps'].isin(eps_mantener), 'otras'\n",
        ")\n",
        "\n",
        "# Codificación one-hot para eps_reducida\n",
        "df_encoded = pd.get_dummies(df_unificado_total, columns=['eps_reducida'], prefix=['eps'])\n",
        "\n",
        "# Eliminar la columna 'otras' si existe\n",
        "if 'eps_otras' in df_encoded.columns:\n",
        "    df_encoded = df_encoded.drop(columns=['eps_otras'])"
      ]
    },
    {
      "cell_type": "code",
      "execution_count": null,
      "metadata": {
        "id": "iIIiECLwEyg_"
      },
      "outputs": [],
      "source": [
        "#----Eliminar eps y eps_reducida----------------\n",
        "df_unificado_total.drop(['eps', 'eps_reducida'], axis=1, inplace=True)"
      ]
    },
    {
      "cell_type": "code",
      "execution_count": null,
      "metadata": {
        "colab": {
          "base_uri": "https://localhost:8080/",
          "height": 743
        },
        "id": "6jJhAFRPFE5C",
        "outputId": "245a5213-314f-4a55-f856-624b5e482ecb"
      },
      "outputs": [],
      "source": [
        "#----------empresa------------------\n",
        "df_unificado_total['empresa'].value_counts(normalize=True).head(20) * 100 #valores unicos y su porcentaje"
      ]
    },
    {
      "cell_type": "markdown",
      "metadata": {
        "id": "vTJYjQmpH43i"
      },
      "source": [
        "**Observacion:** Dado que empresa presenta una alta cardinalidad y la categoria dominante es otros con el 83%, hacer una agrupacion seria equivalente a la variable sector, se decide eliminar la variable"
      ]
    },
    {
      "cell_type": "code",
      "execution_count": null,
      "metadata": {
        "id": "dMeNsXNNHznI"
      },
      "outputs": [],
      "source": [
        "#----Eliminar empresa----------------\n",
        "df_unificado_total.drop(['empresa', 'nivel_estudios'], axis=1, inplace=True)"
      ]
    },
    {
      "cell_type": "code",
      "execution_count": null,
      "metadata": {
        "colab": {
          "base_uri": "https://localhost:8080/"
        },
        "id": "sqVNQ72NIX9a",
        "outputId": "a97f6aa7-a927-45c1-98a9-136dcf061027"
      },
      "outputs": [],
      "source": [
        "df_unificado_total.info()"
      ]
    },
    {
      "cell_type": "code",
      "execution_count": null,
      "metadata": {
        "colab": {
          "base_uri": "https://localhost:8080/",
          "height": 178
        },
        "id": "rgUZdwjkDxsV",
        "outputId": "78020342-5c59-47d6-aa01-b0c7b071ee00"
      },
      "outputs": [],
      "source": [
        "df_unificado_total['estado_general'].value_counts()"
      ]
    },
    {
      "cell_type": "markdown",
      "metadata": {
        "id": "Nu_hxnpxejl_"
      },
      "source": [
        "## Guardar el dataset unificado y codificado"
      ]
    },
    {
      "cell_type": "code",
      "execution_count": null,
      "metadata": {
        "id": "GGjwO7jZaZ1p"
      },
      "outputs": [],
      "source": [
        "# Especificar la ruta completa del archivo\n",
        "ruta_archivo = '/content/drive/MyDrive/proyecto_microcreditos/data/processed/df_unificado_codificado.csv'\n",
        "# Guardar el DataFrame en un archivo CSV\n",
        "df_unificado_total.to_csv(ruta_archivo, index=False)"
      ]
    },
    {
      "cell_type": "markdown",
      "metadata": {
        "id": "I83nqF2YKReK"
      },
      "source": [
        "## Partición de datos"
      ]
    },
    {
      "cell_type": "code",
      "execution_count": null,
      "metadata": {
        "id": "1HfJhVIwKooe"
      },
      "outputs": [],
      "source": [
        "# Separar variables\n",
        "X = df_unificado_total.drop(columns=['estado_general'])  # variable objetivo\n",
        "y = df_unificado_total['estado_general']"
      ]
    },
    {
      "cell_type": "code",
      "execution_count": null,
      "metadata": {
        "id": "ZCR0C1MgKucP"
      },
      "outputs": [],
      "source": [
        "# Partición del dataset\n",
        "X_train, X_test, y_train, y_test = train_test_split(X, y, test_size=0.2, random_state=42, stratify=y)"
      ]
    },
    {
      "cell_type": "markdown",
      "metadata": {
        "id": "EDcWISL4Kyov"
      },
      "source": [
        "## Analisis de caracteristicas"
      ]
    },
    {
      "cell_type": "code",
      "execution_count": null,
      "metadata": {
        "colab": {
          "base_uri": "https://localhost:8080/",
          "height": 81
        },
        "id": "fQAOkRz4K5uG",
        "outputId": "85b788c3-a5d8-4c62-ed0d-5f9ea03d53cf"
      },
      "outputs": [],
      "source": [
        "#  Random Forest para importancia de variables\n",
        "rf = RandomForestClassifier(n_estimators=100, random_state=42)\n",
        "rf.fit(X_train, y_train)"
      ]
    },
    {
      "cell_type": "code",
      "execution_count": null,
      "metadata": {
        "id": "Sk5YmxZmLHTn"
      },
      "outputs": [],
      "source": [
        "# Importancia de variables\n",
        "importancias = pd.Series(rf.feature_importances_, index=X.columns).sort_values(ascending=False)"
      ]
    },
    {
      "cell_type": "code",
      "execution_count": null,
      "metadata": {
        "colab": {
          "base_uri": "https://localhost:8080/",
          "height": 1000
        },
        "id": "LTcQq9wJLevh",
        "outputId": "60b2f06d-a921-4ec7-d321-616ade8d4c95"
      },
      "outputs": [],
      "source": [
        "importancias.sort_values(ascending = False)*100"
      ]
    },
    {
      "cell_type": "code",
      "execution_count": null,
      "metadata": {
        "id": "6JZ7EiqIQ_jk"
      },
      "outputs": [],
      "source": [
        "# Calcular la importancia como porcentaje\n",
        "importancias_porcentaje = importancias * 100\n",
        "\n",
        "# Seleccionar las características con importancia >= 0.9%\n",
        "caracteristicas_seleccionadas = importancias_porcentaje[importancias_porcentaje >= 0.9].index\n",
        "\n",
        "# Crear nuevo conjunto de datos con esas características\n",
        "X_train_seleccionado = X_train[caracteristicas_seleccionadas]\n",
        "X_test_seleccionado = X_test[caracteristicas_seleccionadas]  # si tienes test set"
      ]
    },
    {
      "cell_type": "markdown",
      "metadata": {
        "id": "mMn5WoBnSuOP"
      },
      "source": [
        "## Correlacion de caracteristicas"
      ]
    },
    {
      "cell_type": "code",
      "execution_count": null,
      "metadata": {
        "colab": {
          "base_uri": "https://localhost:8080/",
          "height": 1000
        },
        "id": "s7VO5HR8LyyJ",
        "outputId": "f4ecb7e9-beca-4820-efcb-37647ad14238"
      },
      "outputs": [],
      "source": [
        "# Correlación entre las variables numéricas más importantes\n",
        "top_vars = X_train_seleccionado.columns\n",
        "corr_matrix = X_train_seleccionado[top_vars].corr()\n",
        "\n",
        "# Mostrar solo triángulo inferior\n",
        "mask = np.triu(np.ones_like(corr_matrix, dtype=bool))\n",
        "\n",
        "plt.figure(figsize=(12, 10))\n",
        "sns.heatmap(\n",
        "    corr_matrix,\n",
        "    mask=mask,\n",
        "    annot=True,\n",
        "    annot_kws={\"size\": 8},   # Tamaño de los números en el mapa\n",
        "    cmap='coolwarm',\n",
        "    center=0,\n",
        "    fmt=\".2f\"\n",
        ")\n",
        "plt.title(\"Correlación entre variables importantes (triángulo inferior)\")\n",
        "plt.xticks(rotation=90, fontsize=8)  # Tamaño del texto en el eje X\n",
        "plt.yticks(rotation=0, fontsize=8)   # Tamaño del texto en el eje Y\n",
        "plt.tight_layout()\n",
        "plt.show()"
      ]
    },
    {
      "cell_type": "markdown",
      "metadata": {
        "id": "gvbCbDLZU2Ie"
      },
      "source": [
        "**Observaciones:**   \n",
        "- Se identifica que tipo_pago_sustitucion y tipo_pago_pago_total tienen un 0.91 de correlacion, y de acuerdo a el analisis de caracteristicas tipo_pago_pago_total tiene menor importancia, por lo tanto es la variable a eliminar.\n",
        "-Tambien que existe una correlacion de 1 entre tipo_plan_celular_prepago y tipo_plan_celular_postpago, y de acuerdo a el analisis de caracteristicas tipo_plan_celular_postpago tiene menor importancia, por lo tanto es la variable a eliminar.\n"
      ]
    },
    {
      "cell_type": "code",
      "execution_count": null,
      "metadata": {
        "id": "ZEzsB3yWU0rN"
      },
      "outputs": [],
      "source": [
        "# ------- eliminar tipo_plan_celular_postpago y tipo_pago_pago_total por correlacion con otras variables\n",
        "X_train_seleccionado.drop(['tipo_plan_celular_postpago', 'tipo_pago_pago total'], axis=1, inplace=True)\n",
        "X_test_seleccionado.drop(['tipo_plan_celular_postpago', 'tipo_pago_pago total'], axis=1, inplace=True)"
      ]
    },
    {
      "cell_type": "markdown",
      "metadata": {
        "id": "IgBqm9meYRz8"
      },
      "source": [
        "## Selección del modelo a usar"
      ]
    },
    {
      "cell_type": "code",
      "execution_count": null,
      "metadata": {
        "colab": {
          "base_uri": "https://localhost:8080/"
        },
        "id": "c4ns-Ugea-bz",
        "outputId": "41909d89-8775-48ac-f08e-2939a9d30d54"
      },
      "outputs": [],
      "source": [
        "print(\"Número de columnas:\", X_train_seleccionado.shape[1])\n",
        "print(\"Número de filas:\", X_train_seleccionado.shape[0])"
      ]
    },
    {
      "cell_type": "code",
      "execution_count": null,
      "metadata": {
        "colab": {
          "base_uri": "https://localhost:8080/"
        },
        "id": "nox9Uw7hb2oG",
        "outputId": "e39a666b-23a2-4337-c0c0-3a9bcd69e224"
      },
      "outputs": [],
      "source": [
        "X_train_seleccionado.info()"
      ]
    },
    {
      "cell_type": "code",
      "execution_count": null,
      "metadata": {
        "id": "Geh2wDbffH6q"
      },
      "outputs": [],
      "source": [
        "# Especificar la ruta completa del archivo x_train\n",
        "ruta_archivo = '/content/drive/MyDrive/proyecto_microcreditos/data/processed/X_train_sel.csv'\n",
        "X_train_seleccionado.to_csv(ruta_archivo, index=False)\n",
        "\n",
        "# Especificar la ruta completa del archivo x_test\n",
        "ruta_archivo = '/content/drive/MyDrive/proyecto_microcreditos/data/processed/X_test_sel.csv'\n",
        "X_test_seleccionado.to_csv(ruta_archivo, index=False)\n",
        "\n",
        "# Especificar la ruta completa del archivo y_train\n",
        "ruta_archivo = '/content/drive/MyDrive/proyecto_microcreditos/data/processed/y_train.csv'\n",
        "y_train.to_csv(ruta_archivo, index=False)\n",
        "\n",
        "# Especificar la ruta completa del archivo y_test\n",
        "ruta_archivo = '/content/drive/MyDrive/proyecto_microcreditos/data/processed/y_test.csv'\n",
        "y_test.to_csv(ruta_archivo, index=False)"
      ]
    },
    {
      "cell_type": "code",
      "execution_count": null,
      "metadata": {
        "colab": {
          "base_uri": "https://localhost:8080/",
          "height": 106
        },
        "id": "PXeFAXgxXAEE",
        "outputId": "ce0f5fc0-4984-4d51-fb29-df607a8af1a1"
      },
      "outputs": [],
      "source": [
        "\"\"\"# LazyClassifier\n",
        "clf = LazyClassifier(verbose=0, ignore_warnings=True, custom_metric=None)\n",
        "models, predictions = clf.fit(X_train_seleccionado, X_test_seleccionado, y_train, y_test)\n",
        "\n",
        "# Ver resultados ordenados por ROC AUC o F1-score si están disponibles\n",
        "print(models.sort_values(by=\"F1 Score\", ascending=False))  # o \"ROC AUC\"\n",
        "\n",
        "# Ver clasificación detallada de uno de los modelos\n",
        "from sklearn.ensemble import RandomForestClassifier\n",
        "rf_cl = RandomForestClassifier(class_weight='balanced', random_state=42)\n",
        "rf_cl.fit(X_train_seleccionado, y_train)\n",
        "y_pred = rf_cl.predict(X_test_seleccionado)\n",
        "print(classification_report(y_test, y_pred))\"\"\""
      ]
    },
    {
      "cell_type": "code",
      "execution_count": null,
      "metadata": {
        "colab": {
          "base_uri": "https://localhost:8080/"
        },
        "id": "sFXP-XlHjwcb",
        "outputId": "3dc3edf4-3f53-4889-80b4-d1c532b519cf"
      },
      "outputs": [],
      "source": [
        "models_to_use = {\n",
        "    'LogisticRegression': LogisticRegression(),\n",
        "    'RandomForestClassifier': RandomForestClassifier(),\n",
        "    'RidgeClassifier': RidgeClassifier(),\n",
        "    'GradientBoostingClassifier': GradientBoostingClassifier(),\n",
        "    'DecisionTreeClassifier': DecisionTreeClassifier(),\n",
        "    'BernoulliNB': BernoulliNB(),\n",
        "    'LGBMClassifier': LGBMClassifier()\n",
        "}\n",
        "\n",
        "results = []\n",
        "\n",
        "for name, model in models_to_use.items():\n",
        "    try:\n",
        "        model.fit(X_train_seleccionado, y_train)\n",
        "        y_pred = model.predict(X_test_seleccionado)\n",
        "        f1 = f1_score(y_test, y_pred, average=\"weighted\")\n",
        "        results.append({\n",
        "            \"Model\": name,\n",
        "            \"F1 Score\": f1\n",
        "        })\n",
        "    except Exception as e:\n",
        "        print(f\"{name} failed: {e}\")\n",
        "\n",
        "df_results = pd.DataFrame(results)\n",
        "print(df_results.sort_values(by=\"F1 Score\", ascending=False))"
      ]
    }
  ],
  "metadata": {
    "colab": {
      "machine_shape": "hm",
      "provenance": [],
      "toc_visible": true
    },
    "kernelspec": {
      "display_name": "Python 3",
      "name": "python3"
    },
    "language_info": {
      "name": "python"
    }
  },
  "nbformat": 4,
  "nbformat_minor": 0
}
